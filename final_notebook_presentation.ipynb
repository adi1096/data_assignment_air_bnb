{
 "cells": [
  {
   "cell_type": "markdown",
   "metadata": {
    "slideshow": {
     "slide_type": "slide"
    }
   },
   "source": [
    "# Let's go watch the Fireworks\n",
    "\n",
    "We will be filtering through the Airbnb Dataset for NSW to find the most economical suburb to book an airbnb to watch the Sydney New Year's Eve Fireworks Celebration for 2020!"
   ]
  },
  {
   "cell_type": "markdown",
   "metadata": {
    "slideshow": {
     "slide_type": "slide"
    }
   },
   "source": [
    "Let's look at some popular vantage points around Sydney Harbour..."
   ]
  },
  {
   "cell_type": "markdown",
   "metadata": {
    "slideshow": {
     "slide_type": "slide"
    }
   },
   "source": [
    "![ss](nye_location.png)"
   ]
  },
  {
   "cell_type": "markdown",
   "metadata": {
    "slideshow": {
     "slide_type": "slide"
    }
   },
   "source": [
    "We shall first import some useful libraries that will come in handy for our exploration.\n",
    "`imports`, we've seen this before!"
   ]
  },
  {
   "cell_type": "code",
   "execution_count": 1,
   "metadata": {
    "slideshow": {
     "slide_type": "slide"
    }
   },
   "outputs": [
    {
     "name": "stdout",
     "output_type": "stream",
     "text": [
      "Populating the interactive namespace from numpy and matplotlib\n"
     ]
    }
   ],
   "source": [
    "%pylab inline\n",
    "import matplotlib\n",
    "import matplotlib.pyplot as plt\n",
    "import numpy as np\n",
    "import pandas as pd\n",
    "import os\n",
    "import seaborn as sea\n",
    "import descartes\n",
    "import geopandas as gpd\n",
    "import shapely\n",
    "from shapely.geometry import Point, Polygon"
   ]
  },
  {
   "cell_type": "markdown",
   "metadata": {
    "slideshow": {
     "slide_type": "skip"
    }
   },
   "source": [
    "Some magic that tells jupyter to put graphs and things in the notebook instead of the default behaviour which is to save it as a file."
   ]
  },
  {
   "cell_type": "code",
   "execution_count": 2,
   "metadata": {
    "slideshow": {
     "slide_type": "skip"
    }
   },
   "outputs": [],
   "source": [
    "%matplotlib inline\n",
    "plt.rcParams['figure.figsize'] = (20, 10)"
   ]
  },
  {
   "cell_type": "code",
   "execution_count": 3,
   "metadata": {
    "slideshow": {
     "slide_type": "skip"
    }
   },
   "outputs": [],
   "source": [
    "saved_style_state = matplotlib.rcParams.copy() #give us a style state to go back to"
   ]
  },
  {
   "cell_type": "code",
   "execution_count": 4,
   "metadata": {
    "slideshow": {
     "slide_type": "slide"
    }
   },
   "outputs": [
    {
     "name": "stdout",
     "output_type": "stream",
     "text": [
      "loading from file\n"
     ]
    },
    {
     "name": "stderr",
     "output_type": "stream",
     "text": [
      "/anaconda3/lib/python3.7/site-packages/IPython/core/interactiveshell.py:3049: DtypeWarning: Columns (43,61,62,94) have mixed types. Specify dtype option on import or set low_memory=False.\n",
      "  interactivity=interactivity, compiler=compiler, result=result)\n"
     ]
    },
    {
     "name": "stdout",
     "output_type": "stream",
     "text": [
      "done\n"
     ]
    }
   ],
   "source": [
    "if os.path.isfile(\"listings-2.csv\"):\n",
    "    filepath = \"listings-2.csv\"\n",
    "    print(\"loading from file\")\n",
    "else:\n",
    "    filepath = \"http://insideairbnb.com/get-the-data.html/listings.csv.gz\"\n",
    "    print(\"loading from the internet\")\n",
    "\n",
    "airbnb_data = pd.read_csv(filepath)\n",
    "print(\"done\")"
   ]
  },
  {
   "cell_type": "code",
   "execution_count": 5,
   "metadata": {
    "slideshow": {
     "slide_type": "slide"
    }
   },
   "outputs": [
    {
     "data": {
      "text/html": [
       "<div>\n",
       "<style scoped>\n",
       "    .dataframe tbody tr th:only-of-type {\n",
       "        vertical-align: middle;\n",
       "    }\n",
       "\n",
       "    .dataframe tbody tr th {\n",
       "        vertical-align: top;\n",
       "    }\n",
       "\n",
       "    .dataframe thead th {\n",
       "        text-align: right;\n",
       "    }\n",
       "</style>\n",
       "<table border=\"1\" class=\"dataframe\">\n",
       "  <thead>\n",
       "    <tr style=\"text-align: right;\">\n",
       "      <th></th>\n",
       "      <th>id</th>\n",
       "      <th>listing_url</th>\n",
       "      <th>scrape_id</th>\n",
       "      <th>last_scraped</th>\n",
       "      <th>name</th>\n",
       "      <th>summary</th>\n",
       "      <th>space</th>\n",
       "      <th>description</th>\n",
       "      <th>experiences_offered</th>\n",
       "      <th>neighborhood_overview</th>\n",
       "      <th>...</th>\n",
       "      <th>instant_bookable</th>\n",
       "      <th>is_business_travel_ready</th>\n",
       "      <th>cancellation_policy</th>\n",
       "      <th>require_guest_profile_picture</th>\n",
       "      <th>require_guest_phone_verification</th>\n",
       "      <th>calculated_host_listings_count</th>\n",
       "      <th>calculated_host_listings_count_entire_homes</th>\n",
       "      <th>calculated_host_listings_count_private_rooms</th>\n",
       "      <th>calculated_host_listings_count_shared_rooms</th>\n",
       "      <th>reviews_per_month</th>\n",
       "    </tr>\n",
       "  </thead>\n",
       "  <tbody>\n",
       "    <tr>\n",
       "      <th>0</th>\n",
       "      <td>11156</td>\n",
       "      <td>https://www.airbnb.com/rooms/11156</td>\n",
       "      <td>20190710033517</td>\n",
       "      <td>2019-07-11</td>\n",
       "      <td>An Oasis in the City</td>\n",
       "      <td>Very central to the city which can be reached ...</td>\n",
       "      <td>Potts Pt. is a vibrant  and popular inner-city...</td>\n",
       "      <td>Very central to the city which can be reached ...</td>\n",
       "      <td>none</td>\n",
       "      <td>It is very close to everything and everywhere,...</td>\n",
       "      <td>...</td>\n",
       "      <td>f</td>\n",
       "      <td>f</td>\n",
       "      <td>moderate</td>\n",
       "      <td>f</td>\n",
       "      <td>f</td>\n",
       "      <td>1</td>\n",
       "      <td>0</td>\n",
       "      <td>1</td>\n",
       "      <td>0</td>\n",
       "      <td>1.58</td>\n",
       "    </tr>\n",
       "    <tr>\n",
       "      <th>1</th>\n",
       "      <td>12351</td>\n",
       "      <td>https://www.airbnb.com/rooms/12351</td>\n",
       "      <td>20190710033517</td>\n",
       "      <td>2019-07-11</td>\n",
       "      <td>Sydney City &amp; Harbour at the door</td>\n",
       "      <td>Come stay with Vinh &amp; Stuart (Awarded as one o...</td>\n",
       "      <td>We're pretty relaxed hosts, and we fully appre...</td>\n",
       "      <td>Come stay with Vinh &amp; Stuart (Awarded as one o...</td>\n",
       "      <td>none</td>\n",
       "      <td>Pyrmont is an inner-city village of Sydney, on...</td>\n",
       "      <td>...</td>\n",
       "      <td>f</td>\n",
       "      <td>f</td>\n",
       "      <td>strict_14_with_grace_period</td>\n",
       "      <td>t</td>\n",
       "      <td>t</td>\n",
       "      <td>2</td>\n",
       "      <td>0</td>\n",
       "      <td>2</td>\n",
       "      <td>0</td>\n",
       "      <td>4.73</td>\n",
       "    </tr>\n",
       "    <tr>\n",
       "      <th>2</th>\n",
       "      <td>14250</td>\n",
       "      <td>https://www.airbnb.com/rooms/14250</td>\n",
       "      <td>20190710033517</td>\n",
       "      <td>2019-07-10</td>\n",
       "      <td>Manly Harbour House</td>\n",
       "      <td>Beautifully renovated, spacious and quiet, our...</td>\n",
       "      <td>Our home is a thirty minute walk along the sea...</td>\n",
       "      <td>Beautifully renovated, spacious and quiet, our...</td>\n",
       "      <td>none</td>\n",
       "      <td>Balgowlah Heights is one of the most prestigio...</td>\n",
       "      <td>...</td>\n",
       "      <td>f</td>\n",
       "      <td>f</td>\n",
       "      <td>strict_14_with_grace_period</td>\n",
       "      <td>f</td>\n",
       "      <td>f</td>\n",
       "      <td>2</td>\n",
       "      <td>2</td>\n",
       "      <td>0</td>\n",
       "      <td>0</td>\n",
       "      <td>0.05</td>\n",
       "    </tr>\n",
       "    <tr>\n",
       "      <th>3</th>\n",
       "      <td>15253</td>\n",
       "      <td>https://www.airbnb.com/rooms/15253</td>\n",
       "      <td>20190710033517</td>\n",
       "      <td>2019-07-10</td>\n",
       "      <td>Stunning Penthouse Apartment In Heart Of The City</td>\n",
       "      <td>Penthouse living in a great central location: ...</td>\n",
       "      <td>A charming two-level, two-bedroom, two-bathroo...</td>\n",
       "      <td>Penthouse living in a great central location: ...</td>\n",
       "      <td>none</td>\n",
       "      <td>The location is really central and there is nu...</td>\n",
       "      <td>...</td>\n",
       "      <td>t</td>\n",
       "      <td>f</td>\n",
       "      <td>strict_14_with_grace_period</td>\n",
       "      <td>f</td>\n",
       "      <td>f</td>\n",
       "      <td>3</td>\n",
       "      <td>2</td>\n",
       "      <td>1</td>\n",
       "      <td>0</td>\n",
       "      <td>3.60</td>\n",
       "    </tr>\n",
       "    <tr>\n",
       "      <th>4</th>\n",
       "      <td>20865</td>\n",
       "      <td>https://www.airbnb.com/rooms/20865</td>\n",
       "      <td>20190710033517</td>\n",
       "      <td>2019-07-11</td>\n",
       "      <td>3 BED HOUSE + 1 BED STUDIO Balmain</td>\n",
       "      <td>Hi! We are a married professional couple with ...</td>\n",
       "      <td>HOUSE : _________ * DUCTED AIR CONDITIONING IN...</td>\n",
       "      <td>Hi! We are a married professional couple with ...</td>\n",
       "      <td>none</td>\n",
       "      <td>BALMAIN is an older inner city village / subur...</td>\n",
       "      <td>...</td>\n",
       "      <td>f</td>\n",
       "      <td>f</td>\n",
       "      <td>strict_14_with_grace_period</td>\n",
       "      <td>t</td>\n",
       "      <td>t</td>\n",
       "      <td>1</td>\n",
       "      <td>1</td>\n",
       "      <td>0</td>\n",
       "      <td>0</td>\n",
       "      <td>0.17</td>\n",
       "    </tr>\n",
       "    <tr>\n",
       "      <th>5</th>\n",
       "      <td>26174</td>\n",
       "      <td>https://www.airbnb.com/rooms/26174</td>\n",
       "      <td>20190710033517</td>\n",
       "      <td>2019-07-10</td>\n",
       "      <td>COZY PRIVATE ROOM, GREAT LOCATION!</td>\n",
       "      <td>NaN</td>\n",
       "      <td>Double bed in decent sized bedroom, in two bed...</td>\n",
       "      <td>Double bed in decent sized bedroom, in two bed...</td>\n",
       "      <td>none</td>\n",
       "      <td>NaN</td>\n",
       "      <td>...</td>\n",
       "      <td>f</td>\n",
       "      <td>f</td>\n",
       "      <td>moderate</td>\n",
       "      <td>f</td>\n",
       "      <td>f</td>\n",
       "      <td>1</td>\n",
       "      <td>0</td>\n",
       "      <td>1</td>\n",
       "      <td>0</td>\n",
       "      <td>0.45</td>\n",
       "    </tr>\n",
       "    <tr>\n",
       "      <th>6</th>\n",
       "      <td>38073</td>\n",
       "      <td>https://www.airbnb.com/rooms/38073</td>\n",
       "      <td>20190710033517</td>\n",
       "      <td>2019-07-10</td>\n",
       "      <td>Modern apartment with pool and parking</td>\n",
       "      <td>Welcome to my sanctuary - a bright, comfortabl...</td>\n",
       "      <td>Enjoy this fabulous Home away from home, and h...</td>\n",
       "      <td>Welcome to my sanctuary - a bright, comfortabl...</td>\n",
       "      <td>none</td>\n",
       "      <td>North Sydney, on Sydney's lower North Shore, s...</td>\n",
       "      <td>...</td>\n",
       "      <td>f</td>\n",
       "      <td>f</td>\n",
       "      <td>strict_14_with_grace_period</td>\n",
       "      <td>t</td>\n",
       "      <td>t</td>\n",
       "      <td>2</td>\n",
       "      <td>1</td>\n",
       "      <td>0</td>\n",
       "      <td>1</td>\n",
       "      <td>0.60</td>\n",
       "    </tr>\n",
       "    <tr>\n",
       "      <th>7</th>\n",
       "      <td>39348</td>\n",
       "      <td>https://www.airbnb.com/rooms/39348</td>\n",
       "      <td>20190710033517</td>\n",
       "      <td>2019-07-10</td>\n",
       "      <td>Large Bondi studio</td>\n",
       "      <td>Fully self-contained sunny studio apartment.  ...</td>\n",
       "      <td>Sunny, studio apartment . Private terrace. bus...</td>\n",
       "      <td>Fully self-contained sunny studio apartment.  ...</td>\n",
       "      <td>none</td>\n",
       "      <td>Upmarket area. Very nice and quiet neighbourho...</td>\n",
       "      <td>...</td>\n",
       "      <td>t</td>\n",
       "      <td>f</td>\n",
       "      <td>strict_14_with_grace_period</td>\n",
       "      <td>f</td>\n",
       "      <td>f</td>\n",
       "      <td>1</td>\n",
       "      <td>1</td>\n",
       "      <td>0</td>\n",
       "      <td>0</td>\n",
       "      <td>0.67</td>\n",
       "    </tr>\n",
       "    <tr>\n",
       "      <th>8</th>\n",
       "      <td>44545</td>\n",
       "      <td>https://www.airbnb.com/rooms/44545</td>\n",
       "      <td>20190710033517</td>\n",
       "      <td>2019-07-10</td>\n",
       "      <td>Sunny Darlinghurst Warehouse Apartment</td>\n",
       "      <td>Sunny warehouse/loft apartment in the heart of...</td>\n",
       "      <td>My apartment is a beautiful, simple, open plan...</td>\n",
       "      <td>Sunny warehouse/loft apartment in the heart of...</td>\n",
       "      <td>none</td>\n",
       "      <td>Darlinghurst is home to some of Sydney's best ...</td>\n",
       "      <td>...</td>\n",
       "      <td>f</td>\n",
       "      <td>f</td>\n",
       "      <td>strict_14_with_grace_period</td>\n",
       "      <td>f</td>\n",
       "      <td>t</td>\n",
       "      <td>1</td>\n",
       "      <td>1</td>\n",
       "      <td>0</td>\n",
       "      <td>0</td>\n",
       "      <td>0.56</td>\n",
       "    </tr>\n",
       "    <tr>\n",
       "      <th>9</th>\n",
       "      <td>57183</td>\n",
       "      <td>https://www.airbnb.com/rooms/57183</td>\n",
       "      <td>20190710033517</td>\n",
       "      <td>2019-07-10</td>\n",
       "      <td>BONDI BEACHFRONT CENTRAL LOCATION</td>\n",
       "      <td>This large, light-filled and artistically deco...</td>\n",
       "      <td>BONDI BEACHFRONT BOHEMIAN APARTMENT Why stay a...</td>\n",
       "      <td>This large, light-filled and artistically deco...</td>\n",
       "      <td>none</td>\n",
       "      <td>The most exciting and entertaining neighborhoo...</td>\n",
       "      <td>...</td>\n",
       "      <td>f</td>\n",
       "      <td>f</td>\n",
       "      <td>strict_14_with_grace_period</td>\n",
       "      <td>f</td>\n",
       "      <td>f</td>\n",
       "      <td>1</td>\n",
       "      <td>1</td>\n",
       "      <td>0</td>\n",
       "      <td>0</td>\n",
       "      <td>1.24</td>\n",
       "    </tr>\n",
       "    <tr>\n",
       "      <th>10</th>\n",
       "      <td>58506</td>\n",
       "      <td>https://www.airbnb.com/rooms/58506</td>\n",
       "      <td>20190710033517</td>\n",
       "      <td>2019-07-11</td>\n",
       "      <td>Studio Yindi @ Mosman, Sydney</td>\n",
       "      <td>An open plan apartment, which opens onto a spa...</td>\n",
       "      <td>Studio Yindi is a self-contained open plan stu...</td>\n",
       "      <td>An open plan apartment, which opens onto a spa...</td>\n",
       "      <td>none</td>\n",
       "      <td>Mosman is a smart, middle to upper class subur...</td>\n",
       "      <td>...</td>\n",
       "      <td>f</td>\n",
       "      <td>f</td>\n",
       "      <td>moderate</td>\n",
       "      <td>f</td>\n",
       "      <td>f</td>\n",
       "      <td>1</td>\n",
       "      <td>1</td>\n",
       "      <td>0</td>\n",
       "      <td>0</td>\n",
       "      <td>2.42</td>\n",
       "    </tr>\n",
       "    <tr>\n",
       "      <th>11</th>\n",
       "      <td>58954</td>\n",
       "      <td>https://www.airbnb.com/rooms/58954</td>\n",
       "      <td>20190710033517</td>\n",
       "      <td>2019-07-10</td>\n",
       "      <td>Christmas New Year - eastern Sydney</td>\n",
       "      <td>Our home in Bondi Junction sleeps 8.  It is 3 ...</td>\n",
       "      <td>Our lovely home, a period terrace in eastern S...</td>\n",
       "      <td>Our home in Bondi Junction sleeps 8.  It is 3 ...</td>\n",
       "      <td>none</td>\n",
       "      <td>We are on a quiet, tree lined, one-way street ...</td>\n",
       "      <td>...</td>\n",
       "      <td>f</td>\n",
       "      <td>f</td>\n",
       "      <td>strict_14_with_grace_period</td>\n",
       "      <td>f</td>\n",
       "      <td>f</td>\n",
       "      <td>1</td>\n",
       "      <td>1</td>\n",
       "      <td>0</td>\n",
       "      <td>0</td>\n",
       "      <td>NaN</td>\n",
       "    </tr>\n",
       "    <tr>\n",
       "      <th>12</th>\n",
       "      <td>61721</td>\n",
       "      <td>https://www.airbnb.com/rooms/61721</td>\n",
       "      <td>20190710033517</td>\n",
       "      <td>2019-07-10</td>\n",
       "      <td>2br Eclectic Stylish Home, 2 mins to Bondi Beach</td>\n",
       "      <td>Two blocks to the beach, surf and coffee. Larg...</td>\n",
       "      <td>Just 2 blocks from Bondi Beach and less to you...</td>\n",
       "      <td>Two blocks to the beach, surf and coffee. Larg...</td>\n",
       "      <td>none</td>\n",
       "      <td>3 minutes to the beach and cafes.  5 minutes t...</td>\n",
       "      <td>...</td>\n",
       "      <td>f</td>\n",
       "      <td>f</td>\n",
       "      <td>strict_14_with_grace_period</td>\n",
       "      <td>t</td>\n",
       "      <td>t</td>\n",
       "      <td>1</td>\n",
       "      <td>1</td>\n",
       "      <td>0</td>\n",
       "      <td>0</td>\n",
       "      <td>0.25</td>\n",
       "    </tr>\n",
       "    <tr>\n",
       "      <th>13</th>\n",
       "      <td>63795</td>\n",
       "      <td>https://www.airbnb.com/rooms/63795</td>\n",
       "      <td>20190710033517</td>\n",
       "      <td>2019-07-10</td>\n",
       "      <td>Tree Tops Retreat Avalon Beach</td>\n",
       "      <td>Tree Tops Retreat is a bright, airy, self cont...</td>\n",
       "      <td>Ideal for individuals or couples who want to d...</td>\n",
       "      <td>Tree Tops Retreat is a bright, airy, self cont...</td>\n",
       "      <td>none</td>\n",
       "      <td>We love everything about living here and it's ...</td>\n",
       "      <td>...</td>\n",
       "      <td>f</td>\n",
       "      <td>f</td>\n",
       "      <td>moderate</td>\n",
       "      <td>f</td>\n",
       "      <td>f</td>\n",
       "      <td>1</td>\n",
       "      <td>1</td>\n",
       "      <td>0</td>\n",
       "      <td>0</td>\n",
       "      <td>0.62</td>\n",
       "    </tr>\n",
       "    <tr>\n",
       "      <th>14</th>\n",
       "      <td>65126</td>\n",
       "      <td>https://www.airbnb.com/rooms/65126</td>\n",
       "      <td>20190710033517</td>\n",
       "      <td>2019-07-10</td>\n",
       "      <td>Large Garden Apartment in Bondi.</td>\n",
       "      <td>Huge light and airy 2 bdrm flat with dining ro...</td>\n",
       "      <td>Large sunny apartment in funky 1930's huge Bon...</td>\n",
       "      <td>Huge light and airy 2 bdrm flat with dining ro...</td>\n",
       "      <td>none</td>\n",
       "      <td>Bondi is a great place to holiday in. It has m...</td>\n",
       "      <td>...</td>\n",
       "      <td>f</td>\n",
       "      <td>f</td>\n",
       "      <td>strict_14_with_grace_period</td>\n",
       "      <td>f</td>\n",
       "      <td>f</td>\n",
       "      <td>1</td>\n",
       "      <td>1</td>\n",
       "      <td>0</td>\n",
       "      <td>0</td>\n",
       "      <td>0.11</td>\n",
       "    </tr>\n",
       "    <tr>\n",
       "      <th>15</th>\n",
       "      <td>65635</td>\n",
       "      <td>https://www.airbnb.com/rooms/65635</td>\n",
       "      <td>20190710033517</td>\n",
       "      <td>2019-07-11</td>\n",
       "      <td>Russell Hutchinson - 1st Bedroom</td>\n",
       "      <td>We openly  welcome guest from all over the wor...</td>\n",
       "      <td>Fully furnished comfortable room. Listing: Que...</td>\n",
       "      <td>We openly  welcome guest from all over the wor...</td>\n",
       "      <td>none</td>\n",
       "      <td>The shopping center is 5 min by car a 10 - 15 ...</td>\n",
       "      <td>...</td>\n",
       "      <td>f</td>\n",
       "      <td>f</td>\n",
       "      <td>strict_14_with_grace_period</td>\n",
       "      <td>f</td>\n",
       "      <td>f</td>\n",
       "      <td>7</td>\n",
       "      <td>5</td>\n",
       "      <td>1</td>\n",
       "      <td>1</td>\n",
       "      <td>1.60</td>\n",
       "    </tr>\n",
       "    <tr>\n",
       "      <th>16</th>\n",
       "      <td>66009</td>\n",
       "      <td>https://www.airbnb.com/rooms/66009</td>\n",
       "      <td>20190710033517</td>\n",
       "      <td>2019-07-10</td>\n",
       "      <td>Comfort &amp; space in the heart of Paddington</td>\n",
       "      <td>If you're looking for something comfortable &amp; ...</td>\n",
       "      <td>Large double bedroom with an adjoining sun roo...</td>\n",
       "      <td>If you're looking for something comfortable &amp; ...</td>\n",
       "      <td>none</td>\n",
       "      <td>NaN</td>\n",
       "      <td>...</td>\n",
       "      <td>f</td>\n",
       "      <td>f</td>\n",
       "      <td>moderate</td>\n",
       "      <td>f</td>\n",
       "      <td>f</td>\n",
       "      <td>1</td>\n",
       "      <td>0</td>\n",
       "      <td>1</td>\n",
       "      <td>0</td>\n",
       "      <td>0.02</td>\n",
       "    </tr>\n",
       "    <tr>\n",
       "      <th>17</th>\n",
       "      <td>67112</td>\n",
       "      <td>https://www.airbnb.com/rooms/67112</td>\n",
       "      <td>20190710033517</td>\n",
       "      <td>2019-07-11</td>\n",
       "      <td>Quiet base to explore Sydney</td>\n",
       "      <td>We have a peaceful family home with a large ga...</td>\n",
       "      <td>Hello!  We offer bed and breakfast in our fami...</td>\n",
       "      <td>We have a peaceful family home with a large ga...</td>\n",
       "      <td>none</td>\n",
       "      <td>NaN</td>\n",
       "      <td>...</td>\n",
       "      <td>f</td>\n",
       "      <td>f</td>\n",
       "      <td>moderate</td>\n",
       "      <td>f</td>\n",
       "      <td>f</td>\n",
       "      <td>1</td>\n",
       "      <td>0</td>\n",
       "      <td>1</td>\n",
       "      <td>0</td>\n",
       "      <td>0.22</td>\n",
       "    </tr>\n",
       "    <tr>\n",
       "      <th>18</th>\n",
       "      <td>68999</td>\n",
       "      <td>https://www.airbnb.com/rooms/68999</td>\n",
       "      <td>20190710033517</td>\n",
       "      <td>2019-07-11</td>\n",
       "      <td>A little bit of Sydney - Australia</td>\n",
       "      <td>PLEASE FIRST SEND AN EMAIL TO US BEFORE BOOKIN...</td>\n",
       "      <td>Modern renovated home near central Sydney and ...</td>\n",
       "      <td>PLEASE FIRST SEND AN EMAIL TO US BEFORE BOOKIN...</td>\n",
       "      <td>none</td>\n",
       "      <td>NaN</td>\n",
       "      <td>...</td>\n",
       "      <td>f</td>\n",
       "      <td>f</td>\n",
       "      <td>flexible</td>\n",
       "      <td>f</td>\n",
       "      <td>f</td>\n",
       "      <td>1</td>\n",
       "      <td>0</td>\n",
       "      <td>1</td>\n",
       "      <td>0</td>\n",
       "      <td>0.48</td>\n",
       "    </tr>\n",
       "    <tr>\n",
       "      <th>19</th>\n",
       "      <td>69121</td>\n",
       "      <td>https://www.airbnb.com/rooms/69121</td>\n",
       "      <td>20190710033517</td>\n",
       "      <td>2019-07-10</td>\n",
       "      <td>northern beaches, narrabeen, sydney</td>\n",
       "      <td>NaN</td>\n",
       "      <td>Light, bright and breezy one-bedroom unit. One...</td>\n",
       "      <td>Light, bright and breezy one-bedroom unit. One...</td>\n",
       "      <td>none</td>\n",
       "      <td>NaN</td>\n",
       "      <td>...</td>\n",
       "      <td>f</td>\n",
       "      <td>f</td>\n",
       "      <td>moderate</td>\n",
       "      <td>f</td>\n",
       "      <td>f</td>\n",
       "      <td>1</td>\n",
       "      <td>1</td>\n",
       "      <td>0</td>\n",
       "      <td>0</td>\n",
       "      <td>NaN</td>\n",
       "    </tr>\n",
       "    <tr>\n",
       "      <th>20</th>\n",
       "      <td>69956</td>\n",
       "      <td>https://www.airbnb.com/rooms/69956</td>\n",
       "      <td>20190710033517</td>\n",
       "      <td>2019-07-11</td>\n",
       "      <td>Cosy, Private, Self-Contained &amp; Close to the City</td>\n",
       "      <td>This is a complete, self-contained granny flat...</td>\n",
       "      <td>Newly renovated granny flat (self contained at...</td>\n",
       "      <td>This is a complete, self-contained granny flat...</td>\n",
       "      <td>none</td>\n",
       "      <td>Close to Sydney Airport and multiple train sta...</td>\n",
       "      <td>...</td>\n",
       "      <td>t</td>\n",
       "      <td>f</td>\n",
       "      <td>moderate</td>\n",
       "      <td>f</td>\n",
       "      <td>f</td>\n",
       "      <td>1</td>\n",
       "      <td>1</td>\n",
       "      <td>0</td>\n",
       "      <td>0</td>\n",
       "      <td>0.20</td>\n",
       "    </tr>\n",
       "    <tr>\n",
       "      <th>21</th>\n",
       "      <td>71866</td>\n",
       "      <td>https://www.airbnb.com/rooms/71866</td>\n",
       "      <td>20190710033517</td>\n",
       "      <td>2019-07-10</td>\n",
       "      <td>A Jewel Amongst Greenery</td>\n",
       "      <td>Spacious, airy, fully furnished apartment in C...</td>\n",
       "      <td>Spacious, fully furnished apartment in Clovell...</td>\n",
       "      <td>Spacious, airy, fully furnished apartment in C...</td>\n",
       "      <td>none</td>\n",
       "      <td>NaN</td>\n",
       "      <td>...</td>\n",
       "      <td>f</td>\n",
       "      <td>f</td>\n",
       "      <td>moderate</td>\n",
       "      <td>f</td>\n",
       "      <td>f</td>\n",
       "      <td>5</td>\n",
       "      <td>5</td>\n",
       "      <td>0</td>\n",
       "      <td>0</td>\n",
       "      <td>0.03</td>\n",
       "    </tr>\n",
       "    <tr>\n",
       "      <th>22</th>\n",
       "      <td>73628</td>\n",
       "      <td>https://www.airbnb.com/rooms/73628</td>\n",
       "      <td>20190710033517</td>\n",
       "      <td>2019-07-10</td>\n",
       "      <td>Sunny Room in Art Deco</td>\n",
       "      <td>My comfortable apartment, with high ceilings a...</td>\n",
       "      <td>I'm a millennial creative, situated in a beaut...</td>\n",
       "      <td>My comfortable apartment, with high ceilings a...</td>\n",
       "      <td>none</td>\n",
       "      <td>North Bondi is a super friendly neighbourhood ...</td>\n",
       "      <td>...</td>\n",
       "      <td>f</td>\n",
       "      <td>f</td>\n",
       "      <td>moderate</td>\n",
       "      <td>f</td>\n",
       "      <td>f</td>\n",
       "      <td>2</td>\n",
       "      <td>1</td>\n",
       "      <td>1</td>\n",
       "      <td>0</td>\n",
       "      <td>0.08</td>\n",
       "    </tr>\n",
       "    <tr>\n",
       "      <th>23</th>\n",
       "      <td>73639</td>\n",
       "      <td>https://www.airbnb.com/rooms/73639</td>\n",
       "      <td>20190710033517</td>\n",
       "      <td>2019-07-11</td>\n",
       "      <td>Sydney City Home with Harbour Views</td>\n",
       "      <td>Come stay with Vinh &amp; Stuart (Awarded one of A...</td>\n",
       "      <td>Please say hello and message us  *BEFORE* you ...</td>\n",
       "      <td>Come stay with Vinh &amp; Stuart (Awarded one of A...</td>\n",
       "      <td>none</td>\n",
       "      <td>Pyrmont is an inner-city village of Sydney, on...</td>\n",
       "      <td>...</td>\n",
       "      <td>f</td>\n",
       "      <td>f</td>\n",
       "      <td>strict_14_with_grace_period</td>\n",
       "      <td>t</td>\n",
       "      <td>t</td>\n",
       "      <td>2</td>\n",
       "      <td>0</td>\n",
       "      <td>2</td>\n",
       "      <td>0</td>\n",
       "      <td>3.78</td>\n",
       "    </tr>\n",
       "    <tr>\n",
       "      <th>24</th>\n",
       "      <td>73802</td>\n",
       "      <td>https://www.airbnb.com/rooms/73802</td>\n",
       "      <td>20190710033517</td>\n",
       "      <td>2019-07-10</td>\n",
       "      <td>Sydney Waterfront - 15 min to City</td>\n",
       "      <td>This is a fabulous contemporary villa in perfe...</td>\n",
       "      <td>The house is perched right on Gordons Bay with...</td>\n",
       "      <td>This is a fabulous contemporary villa in perfe...</td>\n",
       "      <td>none</td>\n",
       "      <td>This house is directly on the famous Bondi to ...</td>\n",
       "      <td>...</td>\n",
       "      <td>f</td>\n",
       "      <td>f</td>\n",
       "      <td>strict_14_with_grace_period</td>\n",
       "      <td>f</td>\n",
       "      <td>f</td>\n",
       "      <td>1</td>\n",
       "      <td>1</td>\n",
       "      <td>0</td>\n",
       "      <td>0</td>\n",
       "      <td>0.16</td>\n",
       "    </tr>\n",
       "    <tr>\n",
       "      <th>25</th>\n",
       "      <td>75702</td>\n",
       "      <td>https://www.airbnb.com/rooms/75702</td>\n",
       "      <td>20190710033517</td>\n",
       "      <td>2019-07-10</td>\n",
       "      <td>Beachside haven with gorgeous sea &amp; Headland v...</td>\n",
       "      <td>Spacious self-contained bayside apartment in q...</td>\n",
       "      <td>Fully self contained top storey of house with ...</td>\n",
       "      <td>Spacious self-contained bayside apartment in q...</td>\n",
       "      <td>none</td>\n",
       "      <td>The neighbourhood is quiet as house is in a re...</td>\n",
       "      <td>...</td>\n",
       "      <td>t</td>\n",
       "      <td>f</td>\n",
       "      <td>moderate</td>\n",
       "      <td>f</td>\n",
       "      <td>f</td>\n",
       "      <td>1</td>\n",
       "      <td>1</td>\n",
       "      <td>0</td>\n",
       "      <td>0</td>\n",
       "      <td>2.35</td>\n",
       "    </tr>\n",
       "    <tr>\n",
       "      <th>26</th>\n",
       "      <td>79024</td>\n",
       "      <td>https://www.airbnb.com/rooms/79024</td>\n",
       "      <td>20190710033517</td>\n",
       "      <td>2019-07-10</td>\n",
       "      <td>Harbour views. Massive apartment</td>\n",
       "      <td>Our unit is the perfect place to stay to base ...</td>\n",
       "      <td>MASSIVE. Fully furnished. Point blank views of...</td>\n",
       "      <td>Our unit is the perfect place to stay to base ...</td>\n",
       "      <td>none</td>\n",
       "      <td>The neighbourhood is vibrant and going through...</td>\n",
       "      <td>...</td>\n",
       "      <td>f</td>\n",
       "      <td>f</td>\n",
       "      <td>strict_14_with_grace_period</td>\n",
       "      <td>f</td>\n",
       "      <td>f</td>\n",
       "      <td>1</td>\n",
       "      <td>1</td>\n",
       "      <td>0</td>\n",
       "      <td>0</td>\n",
       "      <td>3.03</td>\n",
       "    </tr>\n",
       "    <tr>\n",
       "      <th>27</th>\n",
       "      <td>79624</td>\n",
       "      <td>https://www.airbnb.com/rooms/79624</td>\n",
       "      <td>20190710033517</td>\n",
       "      <td>2019-07-11</td>\n",
       "      <td>Private Room in Quaint House</td>\n",
       "      <td>A lovely room in quiet little cottage in a cen...</td>\n",
       "      <td>A small quiet room in a  little cottage, one b...</td>\n",
       "      <td>A lovely room in quiet little cottage in a cen...</td>\n",
       "      <td>none</td>\n",
       "      <td>The neighbourhood is an area of middle class p...</td>\n",
       "      <td>...</td>\n",
       "      <td>t</td>\n",
       "      <td>f</td>\n",
       "      <td>flexible</td>\n",
       "      <td>f</td>\n",
       "      <td>f</td>\n",
       "      <td>2</td>\n",
       "      <td>0</td>\n",
       "      <td>2</td>\n",
       "      <td>0</td>\n",
       "      <td>0.84</td>\n",
       "    </tr>\n",
       "    <tr>\n",
       "      <th>28</th>\n",
       "      <td>79912</td>\n",
       "      <td>https://www.airbnb.com/rooms/79912</td>\n",
       "      <td>20190710033517</td>\n",
       "      <td>2019-07-10</td>\n",
       "      <td>Bronte Tranquil City/Beach Living.</td>\n",
       "      <td>Fully furnished 2 bedroom garden apartment in ...</td>\n",
       "      <td>A rare opportunity exists to stay in a fully f...</td>\n",
       "      <td>Fully furnished 2 bedroom garden apartment in ...</td>\n",
       "      <td>none</td>\n",
       "      <td>Close to everything, you can't go wrong in thi...</td>\n",
       "      <td>...</td>\n",
       "      <td>f</td>\n",
       "      <td>f</td>\n",
       "      <td>strict_14_with_grace_period</td>\n",
       "      <td>f</td>\n",
       "      <td>f</td>\n",
       "      <td>1</td>\n",
       "      <td>1</td>\n",
       "      <td>0</td>\n",
       "      <td>0</td>\n",
       "      <td>0.16</td>\n",
       "    </tr>\n",
       "    <tr>\n",
       "      <th>29</th>\n",
       "      <td>80470</td>\n",
       "      <td>https://www.airbnb.com/rooms/80470</td>\n",
       "      <td>20190710033517</td>\n",
       "      <td>2019-07-11</td>\n",
       "      <td>Brand newly renovated 2Bed2Bath</td>\n",
       "      <td>3 Minute bus drive to the City or 20 minute wa...</td>\n",
       "      <td>Welcome to Neutral Bay, arguably one of Sydney...</td>\n",
       "      <td>3 Minute bus drive to the City or 20 minute wa...</td>\n",
       "      <td>none</td>\n",
       "      <td>NaN</td>\n",
       "      <td>...</td>\n",
       "      <td>t</td>\n",
       "      <td>f</td>\n",
       "      <td>strict_14_with_grace_period</td>\n",
       "      <td>f</td>\n",
       "      <td>f</td>\n",
       "      <td>1</td>\n",
       "      <td>1</td>\n",
       "      <td>0</td>\n",
       "      <td>0</td>\n",
       "      <td>0.06</td>\n",
       "    </tr>\n",
       "    <tr>\n",
       "      <th>...</th>\n",
       "      <td>...</td>\n",
       "      <td>...</td>\n",
       "      <td>...</td>\n",
       "      <td>...</td>\n",
       "      <td>...</td>\n",
       "      <td>...</td>\n",
       "      <td>...</td>\n",
       "      <td>...</td>\n",
       "      <td>...</td>\n",
       "      <td>...</td>\n",
       "      <td>...</td>\n",
       "      <td>...</td>\n",
       "      <td>...</td>\n",
       "      <td>...</td>\n",
       "      <td>...</td>\n",
       "      <td>...</td>\n",
       "      <td>...</td>\n",
       "      <td>...</td>\n",
       "      <td>...</td>\n",
       "      <td>...</td>\n",
       "      <td>...</td>\n",
       "    </tr>\n",
       "    <tr>\n",
       "      <th>38050</th>\n",
       "      <td>36532047</td>\n",
       "      <td>https://www.airbnb.com/rooms/36532047</td>\n",
       "      <td>20190710033517</td>\n",
       "      <td>2019-07-10</td>\n",
       "      <td>LUX One Bedroom Apartment- In the Heart of Sydney</td>\n",
       "      <td>NaN</td>\n",
       "      <td>Centrally located to Surry Hills, Hyde Park, C...</td>\n",
       "      <td>Centrally located to Surry Hills, Hyde Park, C...</td>\n",
       "      <td>none</td>\n",
       "      <td>Zara Tower: in the heart of Sydney’s CBD and S...</td>\n",
       "      <td>...</td>\n",
       "      <td>t</td>\n",
       "      <td>f</td>\n",
       "      <td>flexible</td>\n",
       "      <td>f</td>\n",
       "      <td>f</td>\n",
       "      <td>9</td>\n",
       "      <td>9</td>\n",
       "      <td>0</td>\n",
       "      <td>0</td>\n",
       "      <td>NaN</td>\n",
       "    </tr>\n",
       "    <tr>\n",
       "      <th>38051</th>\n",
       "      <td>36532195</td>\n",
       "      <td>https://www.airbnb.com/rooms/36532195</td>\n",
       "      <td>20190710033517</td>\n",
       "      <td>2019-07-10</td>\n",
       "      <td>LUX One Bedroom Apartment- 3 Night Minimum</td>\n",
       "      <td>NaN</td>\n",
       "      <td>Centrally located to Surry Hills, Hyde Park, C...</td>\n",
       "      <td>Centrally located to Surry Hills, Hyde Park, C...</td>\n",
       "      <td>none</td>\n",
       "      <td>Zara Tower: in the heart of Sydney’s CBD and S...</td>\n",
       "      <td>...</td>\n",
       "      <td>t</td>\n",
       "      <td>f</td>\n",
       "      <td>flexible</td>\n",
       "      <td>f</td>\n",
       "      <td>f</td>\n",
       "      <td>9</td>\n",
       "      <td>9</td>\n",
       "      <td>0</td>\n",
       "      <td>0</td>\n",
       "      <td>NaN</td>\n",
       "    </tr>\n",
       "    <tr>\n",
       "      <th>38052</th>\n",
       "      <td>36532352</td>\n",
       "      <td>https://www.airbnb.com/rooms/36532352</td>\n",
       "      <td>20190710033517</td>\n",
       "      <td>2019-07-10</td>\n",
       "      <td>Peaceful and private family home</td>\n",
       "      <td>NaN</td>\n",
       "      <td>NaN</td>\n",
       "      <td>NaN</td>\n",
       "      <td>none</td>\n",
       "      <td>NaN</td>\n",
       "      <td>...</td>\n",
       "      <td>f</td>\n",
       "      <td>f</td>\n",
       "      <td>flexible</td>\n",
       "      <td>f</td>\n",
       "      <td>f</td>\n",
       "      <td>1</td>\n",
       "      <td>1</td>\n",
       "      <td>0</td>\n",
       "      <td>0</td>\n",
       "      <td>NaN</td>\n",
       "    </tr>\n",
       "    <tr>\n",
       "      <th>38053</th>\n",
       "      <td>36532389</td>\n",
       "      <td>https://www.airbnb.com/rooms/36532389</td>\n",
       "      <td>20190710033517</td>\n",
       "      <td>2019-07-10</td>\n",
       "      <td>Modern apartment steps from city, ICC</td>\n",
       "      <td>Make the most of your time in Sydney when you ...</td>\n",
       "      <td>Step into our well-lit apartment and you'll fe...</td>\n",
       "      <td>Make the most of your time in Sydney when you ...</td>\n",
       "      <td>none</td>\n",
       "      <td>Located just across Darling Harbour from the c...</td>\n",
       "      <td>...</td>\n",
       "      <td>t</td>\n",
       "      <td>f</td>\n",
       "      <td>moderate</td>\n",
       "      <td>f</td>\n",
       "      <td>f</td>\n",
       "      <td>2</td>\n",
       "      <td>2</td>\n",
       "      <td>0</td>\n",
       "      <td>0</td>\n",
       "      <td>NaN</td>\n",
       "    </tr>\n",
       "    <tr>\n",
       "      <th>38054</th>\n",
       "      <td>36532395</td>\n",
       "      <td>https://www.airbnb.com/rooms/36532395</td>\n",
       "      <td>20190710033517</td>\n",
       "      <td>2019-07-10</td>\n",
       "      <td>Bright Two-Bedroom Apartment Steps From Everyt...</td>\n",
       "      <td>Set in a renovated heritage building, this two...</td>\n",
       "      <td>This third-floor apartment is set in the Alba ...</td>\n",
       "      <td>Set in a renovated heritage building, this two...</td>\n",
       "      <td>none</td>\n",
       "      <td>If Surry Hills isn't Sydney's coolest neighbou...</td>\n",
       "      <td>...</td>\n",
       "      <td>t</td>\n",
       "      <td>f</td>\n",
       "      <td>moderate</td>\n",
       "      <td>f</td>\n",
       "      <td>f</td>\n",
       "      <td>2</td>\n",
       "      <td>2</td>\n",
       "      <td>0</td>\n",
       "      <td>0</td>\n",
       "      <td>NaN</td>\n",
       "    </tr>\n",
       "    <tr>\n",
       "      <th>38055</th>\n",
       "      <td>36532698</td>\n",
       "      <td>https://www.airbnb.com/rooms/36532698</td>\n",
       "      <td>20190710033517</td>\n",
       "      <td>2019-07-11</td>\n",
       "      <td>Best view in Sydney</td>\n",
       "      <td>Beautifully furnished, spacious unit in the en...</td>\n",
       "      <td>Walk in and never want to leave after your lef...</td>\n",
       "      <td>Beautifully furnished, spacious unit in the en...</td>\n",
       "      <td>none</td>\n",
       "      <td>NaN</td>\n",
       "      <td>...</td>\n",
       "      <td>t</td>\n",
       "      <td>f</td>\n",
       "      <td>flexible</td>\n",
       "      <td>f</td>\n",
       "      <td>f</td>\n",
       "      <td>1</td>\n",
       "      <td>1</td>\n",
       "      <td>0</td>\n",
       "      <td>0</td>\n",
       "      <td>NaN</td>\n",
       "    </tr>\n",
       "    <tr>\n",
       "      <th>38056</th>\n",
       "      <td>36532932</td>\n",
       "      <td>https://www.airbnb.com/rooms/36532932</td>\n",
       "      <td>20190710033517</td>\n",
       "      <td>2019-07-11</td>\n",
       "      <td>Sunny &amp; Spacious Flat In Bondi Beach</td>\n",
       "      <td>The flat is located on beach rd in bondi beach...</td>\n",
       "      <td>NaN</td>\n",
       "      <td>The flat is located on beach rd in bondi beach...</td>\n",
       "      <td>none</td>\n",
       "      <td>NaN</td>\n",
       "      <td>...</td>\n",
       "      <td>t</td>\n",
       "      <td>f</td>\n",
       "      <td>flexible</td>\n",
       "      <td>f</td>\n",
       "      <td>f</td>\n",
       "      <td>1</td>\n",
       "      <td>1</td>\n",
       "      <td>0</td>\n",
       "      <td>0</td>\n",
       "      <td>NaN</td>\n",
       "    </tr>\n",
       "    <tr>\n",
       "      <th>38057</th>\n",
       "      <td>36533785</td>\n",
       "      <td>https://www.airbnb.com/rooms/36533785</td>\n",
       "      <td>20190710033517</td>\n",
       "      <td>2019-07-10</td>\n",
       "      <td>Camperdown free parking two bedroom two bathroom</td>\n",
       "      <td>Just opposite to USYD, near RPA, Broadway shop...</td>\n",
       "      <td>NaN</td>\n",
       "      <td>Just opposite to USYD, near RPA, Broadway shop...</td>\n",
       "      <td>none</td>\n",
       "      <td>NaN</td>\n",
       "      <td>...</td>\n",
       "      <td>t</td>\n",
       "      <td>f</td>\n",
       "      <td>flexible</td>\n",
       "      <td>f</td>\n",
       "      <td>f</td>\n",
       "      <td>5</td>\n",
       "      <td>2</td>\n",
       "      <td>3</td>\n",
       "      <td>0</td>\n",
       "      <td>NaN</td>\n",
       "    </tr>\n",
       "    <tr>\n",
       "      <th>38058</th>\n",
       "      <td>36533943</td>\n",
       "      <td>https://www.airbnb.com/rooms/36533943</td>\n",
       "      <td>20190710033517</td>\n",
       "      <td>2019-07-10</td>\n",
       "      <td>SPACIOUS ONE BEDROOM-GREAT LOCATION • BROADWAY...</td>\n",
       "      <td>A spacious one bedroom apartment, centrally lo...</td>\n",
       "      <td>Cozy and roomy one bedroom apartment. We have ...</td>\n",
       "      <td>A spacious one bedroom apartment, centrally lo...</td>\n",
       "      <td>none</td>\n",
       "      <td>NaN</td>\n",
       "      <td>...</td>\n",
       "      <td>t</td>\n",
       "      <td>f</td>\n",
       "      <td>strict_14_with_grace_period</td>\n",
       "      <td>f</td>\n",
       "      <td>f</td>\n",
       "      <td>5</td>\n",
       "      <td>5</td>\n",
       "      <td>0</td>\n",
       "      <td>0</td>\n",
       "      <td>NaN</td>\n",
       "    </tr>\n",
       "    <tr>\n",
       "      <th>38059</th>\n",
       "      <td>36534716</td>\n",
       "      <td>https://www.airbnb.com/rooms/36534716</td>\n",
       "      <td>20190710033517</td>\n",
       "      <td>2019-07-10</td>\n",
       "      <td>ds 1608</td>\n",
       "      <td>Wake up in the heart of the city, surrounded b...</td>\n",
       "      <td>NaN</td>\n",
       "      <td>Wake up in the heart of the city, surrounded b...</td>\n",
       "      <td>none</td>\n",
       "      <td>NaN</td>\n",
       "      <td>...</td>\n",
       "      <td>t</td>\n",
       "      <td>f</td>\n",
       "      <td>flexible</td>\n",
       "      <td>f</td>\n",
       "      <td>f</td>\n",
       "      <td>4</td>\n",
       "      <td>4</td>\n",
       "      <td>0</td>\n",
       "      <td>0</td>\n",
       "      <td>NaN</td>\n",
       "    </tr>\n",
       "    <tr>\n",
       "      <th>38060</th>\n",
       "      <td>36539852</td>\n",
       "      <td>https://www.airbnb.com/rooms/36539852</td>\n",
       "      <td>20190710033517</td>\n",
       "      <td>2019-07-11</td>\n",
       "      <td>Quiet and comfy room with good location</td>\n",
       "      <td>Private room in a clean quiet unit,  the u</td>\n",
       "      <td>NaN</td>\n",
       "      <td>Private room in a clean quiet unit,  the u</td>\n",
       "      <td>none</td>\n",
       "      <td>NaN</td>\n",
       "      <td>...</td>\n",
       "      <td>t</td>\n",
       "      <td>f</td>\n",
       "      <td>flexible</td>\n",
       "      <td>f</td>\n",
       "      <td>f</td>\n",
       "      <td>1</td>\n",
       "      <td>0</td>\n",
       "      <td>1</td>\n",
       "      <td>0</td>\n",
       "      <td>NaN</td>\n",
       "    </tr>\n",
       "    <tr>\n",
       "      <th>38061</th>\n",
       "      <td>36541197</td>\n",
       "      <td>https://www.airbnb.com/rooms/36541197</td>\n",
       "      <td>20190710033517</td>\n",
       "      <td>2019-07-10</td>\n",
       "      <td>Cosy and Private Room in Greenwich</td>\n",
       "      <td>NaN</td>\n",
       "      <td>NaN</td>\n",
       "      <td>NaN</td>\n",
       "      <td>none</td>\n",
       "      <td>NaN</td>\n",
       "      <td>...</td>\n",
       "      <td>f</td>\n",
       "      <td>f</td>\n",
       "      <td>flexible</td>\n",
       "      <td>f</td>\n",
       "      <td>f</td>\n",
       "      <td>1</td>\n",
       "      <td>0</td>\n",
       "      <td>1</td>\n",
       "      <td>0</td>\n",
       "      <td>NaN</td>\n",
       "    </tr>\n",
       "    <tr>\n",
       "      <th>38062</th>\n",
       "      <td>36541584</td>\n",
       "      <td>https://www.airbnb.com/rooms/36541584</td>\n",
       "      <td>20190710033517</td>\n",
       "      <td>2019-07-10</td>\n",
       "      <td>Huge ground floor duplex with private gardens</td>\n",
       "      <td>Huge ground floor duplex home perfect for fami...</td>\n",
       "      <td>This property includes air conditioning, priva...</td>\n",
       "      <td>Huge ground floor duplex home perfect for fami...</td>\n",
       "      <td>none</td>\n",
       "      <td>Castle Cove is a family oriented area with loc...</td>\n",
       "      <td>...</td>\n",
       "      <td>f</td>\n",
       "      <td>f</td>\n",
       "      <td>flexible</td>\n",
       "      <td>f</td>\n",
       "      <td>f</td>\n",
       "      <td>1</td>\n",
       "      <td>1</td>\n",
       "      <td>0</td>\n",
       "      <td>0</td>\n",
       "      <td>NaN</td>\n",
       "    </tr>\n",
       "    <tr>\n",
       "      <th>38063</th>\n",
       "      <td>36542395</td>\n",
       "      <td>https://www.airbnb.com/rooms/36542395</td>\n",
       "      <td>20190710033517</td>\n",
       "      <td>2019-07-11</td>\n",
       "      <td>Easy and comfortable</td>\n",
       "      <td>NaN</td>\n",
       "      <td>NaN</td>\n",
       "      <td>NaN</td>\n",
       "      <td>none</td>\n",
       "      <td>NaN</td>\n",
       "      <td>...</td>\n",
       "      <td>t</td>\n",
       "      <td>f</td>\n",
       "      <td>flexible</td>\n",
       "      <td>f</td>\n",
       "      <td>f</td>\n",
       "      <td>2</td>\n",
       "      <td>1</td>\n",
       "      <td>1</td>\n",
       "      <td>0</td>\n",
       "      <td>NaN</td>\n",
       "    </tr>\n",
       "    <tr>\n",
       "      <th>38064</th>\n",
       "      <td>36542940</td>\n",
       "      <td>https://www.airbnb.com/rooms/36542940</td>\n",
       "      <td>20190710033517</td>\n",
       "      <td>2019-07-10</td>\n",
       "      <td>Great bright Bondi Beach flat with a balcony</td>\n",
       "      <td>This ideally located apartment is only 5 minut...</td>\n",
       "      <td>The apartment is drenched in all day sunlight ...</td>\n",
       "      <td>This ideally located apartment is only 5 minut...</td>\n",
       "      <td>none</td>\n",
       "      <td>Iconic Bondi Beach! With many bars, restaurant...</td>\n",
       "      <td>...</td>\n",
       "      <td>f</td>\n",
       "      <td>f</td>\n",
       "      <td>strict_14_with_grace_period</td>\n",
       "      <td>f</td>\n",
       "      <td>f</td>\n",
       "      <td>1</td>\n",
       "      <td>1</td>\n",
       "      <td>0</td>\n",
       "      <td>0</td>\n",
       "      <td>NaN</td>\n",
       "    </tr>\n",
       "    <tr>\n",
       "      <th>38065</th>\n",
       "      <td>36543034</td>\n",
       "      <td>https://www.airbnb.com/rooms/36543034</td>\n",
       "      <td>20190710033517</td>\n",
       "      <td>2019-07-10</td>\n",
       "      <td>Private room / own bathroom / opposite Beach!!!!!</td>\n",
       "      <td>Private room with own bathroom 2 mins walk fro...</td>\n",
       "      <td>Great furnished bedroom - with queen sized bed...</td>\n",
       "      <td>Private room with own bathroom 2 mins walk fro...</td>\n",
       "      <td>none</td>\n",
       "      <td>Close to shops, restaurants and across the roa...</td>\n",
       "      <td>...</td>\n",
       "      <td>t</td>\n",
       "      <td>f</td>\n",
       "      <td>flexible</td>\n",
       "      <td>f</td>\n",
       "      <td>f</td>\n",
       "      <td>2</td>\n",
       "      <td>0</td>\n",
       "      <td>2</td>\n",
       "      <td>0</td>\n",
       "      <td>NaN</td>\n",
       "    </tr>\n",
       "    <tr>\n",
       "      <th>38066</th>\n",
       "      <td>36543088</td>\n",
       "      <td>https://www.airbnb.com/rooms/36543088</td>\n",
       "      <td>20190710033517</td>\n",
       "      <td>2019-07-11</td>\n",
       "      <td>No:5</td>\n",
       "      <td>我家是五室三卫的联排别墅､客人按照自己的需要预订独立的房间､有五个不同特色的房间让客人选择､...</td>\n",
       "      <td>我家是环境设施齐全､风景优美的联排别墅､一幢是五室三卫一厨､旁边的一幢是四室三卫一厨､共有9...</td>\n",
       "      <td>我家是五室三卫的联排别墅､客人按照自己的需要预订独立的房间､有五个不同特色的房间让客人选择､...</td>\n",
       "      <td>none</td>\n",
       "      <td>NaN</td>\n",
       "      <td>...</td>\n",
       "      <td>t</td>\n",
       "      <td>f</td>\n",
       "      <td>flexible</td>\n",
       "      <td>f</td>\n",
       "      <td>f</td>\n",
       "      <td>5</td>\n",
       "      <td>1</td>\n",
       "      <td>4</td>\n",
       "      <td>0</td>\n",
       "      <td>NaN</td>\n",
       "    </tr>\n",
       "    <tr>\n",
       "      <th>38067</th>\n",
       "      <td>36543242</td>\n",
       "      <td>https://www.airbnb.com/rooms/36543242</td>\n",
       "      <td>20190710033517</td>\n",
       "      <td>2019-07-11</td>\n",
       "      <td>Amazing room in beautiful house on Bondi Beach.</td>\n",
       "      <td>Amazing beach house on the heart of Bondi Beac...</td>\n",
       "      <td>NaN</td>\n",
       "      <td>Amazing beach house on the heart of Bondi Beac...</td>\n",
       "      <td>none</td>\n",
       "      <td>Bondi is the perfect place to surfing, yoga or...</td>\n",
       "      <td>...</td>\n",
       "      <td>f</td>\n",
       "      <td>f</td>\n",
       "      <td>flexible</td>\n",
       "      <td>f</td>\n",
       "      <td>f</td>\n",
       "      <td>1</td>\n",
       "      <td>0</td>\n",
       "      <td>1</td>\n",
       "      <td>0</td>\n",
       "      <td>NaN</td>\n",
       "    </tr>\n",
       "    <tr>\n",
       "      <th>38068</th>\n",
       "      <td>36543511</td>\n",
       "      <td>https://www.airbnb.com/rooms/36543511</td>\n",
       "      <td>20190710033517</td>\n",
       "      <td>2019-07-10</td>\n",
       "      <td>Cozy Apartment Close to Coogee Beach</td>\n",
       "      <td>NaN</td>\n",
       "      <td>NaN</td>\n",
       "      <td>NaN</td>\n",
       "      <td>none</td>\n",
       "      <td>NaN</td>\n",
       "      <td>...</td>\n",
       "      <td>t</td>\n",
       "      <td>f</td>\n",
       "      <td>flexible</td>\n",
       "      <td>f</td>\n",
       "      <td>f</td>\n",
       "      <td>1</td>\n",
       "      <td>1</td>\n",
       "      <td>0</td>\n",
       "      <td>0</td>\n",
       "      <td>NaN</td>\n",
       "    </tr>\n",
       "    <tr>\n",
       "      <th>38069</th>\n",
       "      <td>36544200</td>\n",
       "      <td>https://www.airbnb.com/rooms/36544200</td>\n",
       "      <td>20190710033517</td>\n",
       "      <td>2019-07-10</td>\n",
       "      <td>Nice and cosy little granny flat HUGE LIVING AREA</td>\n",
       "      <td>NaN</td>\n",
       "      <td>NaN</td>\n",
       "      <td>NaN</td>\n",
       "      <td>none</td>\n",
       "      <td>NaN</td>\n",
       "      <td>...</td>\n",
       "      <td>t</td>\n",
       "      <td>f</td>\n",
       "      <td>flexible</td>\n",
       "      <td>f</td>\n",
       "      <td>f</td>\n",
       "      <td>1</td>\n",
       "      <td>1</td>\n",
       "      <td>0</td>\n",
       "      <td>0</td>\n",
       "      <td>NaN</td>\n",
       "    </tr>\n",
       "    <tr>\n",
       "      <th>38070</th>\n",
       "      <td>36544877</td>\n",
       "      <td>https://www.airbnb.com/rooms/36544877</td>\n",
       "      <td>20190710033517</td>\n",
       "      <td>2019-07-10</td>\n",
       "      <td>Modern Bondi Junction/Bronte apartment</td>\n",
       "      <td>NaN</td>\n",
       "      <td>NaN</td>\n",
       "      <td>NaN</td>\n",
       "      <td>none</td>\n",
       "      <td>NaN</td>\n",
       "      <td>...</td>\n",
       "      <td>f</td>\n",
       "      <td>f</td>\n",
       "      <td>flexible</td>\n",
       "      <td>f</td>\n",
       "      <td>f</td>\n",
       "      <td>1</td>\n",
       "      <td>0</td>\n",
       "      <td>1</td>\n",
       "      <td>0</td>\n",
       "      <td>NaN</td>\n",
       "    </tr>\n",
       "    <tr>\n",
       "      <th>38071</th>\n",
       "      <td>36544955</td>\n",
       "      <td>https://www.airbnb.com/rooms/36544955</td>\n",
       "      <td>20190710033517</td>\n",
       "      <td>2019-07-10</td>\n",
       "      <td>Cosy beach pad minutes to Sydney most famous b...</td>\n",
       "      <td>Cosy beach pad, minutes to Sydney's most famou...</td>\n",
       "      <td>The place is very quiet, conveniently located ...</td>\n",
       "      <td>Cosy beach pad, minutes to Sydney's most famou...</td>\n",
       "      <td>none</td>\n",
       "      <td>NaN</td>\n",
       "      <td>...</td>\n",
       "      <td>f</td>\n",
       "      <td>f</td>\n",
       "      <td>moderate</td>\n",
       "      <td>f</td>\n",
       "      <td>f</td>\n",
       "      <td>2</td>\n",
       "      <td>1</td>\n",
       "      <td>1</td>\n",
       "      <td>0</td>\n",
       "      <td>NaN</td>\n",
       "    </tr>\n",
       "    <tr>\n",
       "      <th>38072</th>\n",
       "      <td>36545156</td>\n",
       "      <td>https://www.airbnb.com/rooms/36545156</td>\n",
       "      <td>20190710033517</td>\n",
       "      <td>2019-07-10</td>\n",
       "      <td>Cosy aprtment at Good location</td>\n",
       "      <td>Nice house</td>\n",
       "      <td>NaN</td>\n",
       "      <td>Nice house</td>\n",
       "      <td>none</td>\n",
       "      <td>NaN</td>\n",
       "      <td>...</td>\n",
       "      <td>t</td>\n",
       "      <td>f</td>\n",
       "      <td>flexible</td>\n",
       "      <td>f</td>\n",
       "      <td>f</td>\n",
       "      <td>1</td>\n",
       "      <td>1</td>\n",
       "      <td>0</td>\n",
       "      <td>0</td>\n",
       "      <td>NaN</td>\n",
       "    </tr>\n",
       "    <tr>\n",
       "      <th>38073</th>\n",
       "      <td>36546180</td>\n",
       "      <td>https://www.airbnb.com/rooms/36546180</td>\n",
       "      <td>20190710033517</td>\n",
       "      <td>2019-07-10</td>\n",
       "      <td>private cottage on Historic home with big back...</td>\n",
       "      <td>My place is close to Burwood Station. You’ll l...</td>\n",
       "      <td>The house is located on a large 1500 square me...</td>\n",
       "      <td>My place is close to Burwood Station. You’ll l...</td>\n",
       "      <td>none</td>\n",
       "      <td>NaN</td>\n",
       "      <td>...</td>\n",
       "      <td>t</td>\n",
       "      <td>f</td>\n",
       "      <td>flexible</td>\n",
       "      <td>f</td>\n",
       "      <td>f</td>\n",
       "      <td>2</td>\n",
       "      <td>0</td>\n",
       "      <td>2</td>\n",
       "      <td>0</td>\n",
       "      <td>NaN</td>\n",
       "    </tr>\n",
       "    <tr>\n",
       "      <th>38074</th>\n",
       "      <td>36546607</td>\n",
       "      <td>https://www.airbnb.com/rooms/36546607</td>\n",
       "      <td>20190710033517</td>\n",
       "      <td>2019-07-10</td>\n",
       "      <td>Big studio near Sydney Chinatown</td>\n",
       "      <td>NaN</td>\n",
       "      <td>NaN</td>\n",
       "      <td>NaN</td>\n",
       "      <td>none</td>\n",
       "      <td>NaN</td>\n",
       "      <td>...</td>\n",
       "      <td>f</td>\n",
       "      <td>f</td>\n",
       "      <td>flexible</td>\n",
       "      <td>f</td>\n",
       "      <td>f</td>\n",
       "      <td>4</td>\n",
       "      <td>1</td>\n",
       "      <td>3</td>\n",
       "      <td>0</td>\n",
       "      <td>NaN</td>\n",
       "    </tr>\n",
       "    <tr>\n",
       "      <th>38075</th>\n",
       "      <td>36549376</td>\n",
       "      <td>https://www.airbnb.com/rooms/36549376</td>\n",
       "      <td>20190710033517</td>\n",
       "      <td>2019-07-10</td>\n",
       "      <td>House on harbour</td>\n",
       "      <td>NaN</td>\n",
       "      <td>NaN</td>\n",
       "      <td>NaN</td>\n",
       "      <td>none</td>\n",
       "      <td>NaN</td>\n",
       "      <td>...</td>\n",
       "      <td>f</td>\n",
       "      <td>f</td>\n",
       "      <td>flexible</td>\n",
       "      <td>f</td>\n",
       "      <td>f</td>\n",
       "      <td>2</td>\n",
       "      <td>2</td>\n",
       "      <td>0</td>\n",
       "      <td>0</td>\n",
       "      <td>NaN</td>\n",
       "    </tr>\n",
       "    <tr>\n",
       "      <th>38076</th>\n",
       "      <td>36554081</td>\n",
       "      <td>https://www.airbnb.com/rooms/36554081</td>\n",
       "      <td>20190710033517</td>\n",
       "      <td>2019-07-10</td>\n",
       "      <td>Beautiful OWN ROOM in a quiet and clean share ...</td>\n",
       "      <td>With every detail carefully considered, my hom...</td>\n",
       "      <td>This space is in a fantastic location. Less th...</td>\n",
       "      <td>With every detail carefully considered, my hom...</td>\n",
       "      <td>none</td>\n",
       "      <td>Located on a quiet terrace-lined street, the a...</td>\n",
       "      <td>...</td>\n",
       "      <td>t</td>\n",
       "      <td>f</td>\n",
       "      <td>flexible</td>\n",
       "      <td>f</td>\n",
       "      <td>f</td>\n",
       "      <td>4</td>\n",
       "      <td>3</td>\n",
       "      <td>1</td>\n",
       "      <td>0</td>\n",
       "      <td>NaN</td>\n",
       "    </tr>\n",
       "    <tr>\n",
       "      <th>38077</th>\n",
       "      <td>36561062</td>\n",
       "      <td>https://www.airbnb.com/rooms/36561062</td>\n",
       "      <td>20190710033517</td>\n",
       "      <td>2019-07-11</td>\n",
       "      <td>Bright and Cosy Double Bedroom</td>\n",
       "      <td>**Short-term let** I'm going away for a couple...</td>\n",
       "      <td>You'll be living with my flatmate Quentin, who...</td>\n",
       "      <td>**Short-term let** I'm going away for a couple...</td>\n",
       "      <td>none</td>\n",
       "      <td>NaN</td>\n",
       "      <td>...</td>\n",
       "      <td>f</td>\n",
       "      <td>f</td>\n",
       "      <td>flexible</td>\n",
       "      <td>f</td>\n",
       "      <td>f</td>\n",
       "      <td>1</td>\n",
       "      <td>0</td>\n",
       "      <td>1</td>\n",
       "      <td>0</td>\n",
       "      <td>NaN</td>\n",
       "    </tr>\n",
       "    <tr>\n",
       "      <th>38078</th>\n",
       "      <td>36561431</td>\n",
       "      <td>https://www.airbnb.com/rooms/36561431</td>\n",
       "      <td>20190710033517</td>\n",
       "      <td>2019-07-10</td>\n",
       "      <td>Sun filled Bondi Beach Pad - 5 mins walk to beach</td>\n",
       "      <td>In the heart of Bondi Beach, everything you ne...</td>\n",
       "      <td>There apartment has a  beachy, boho vibe.  It ...</td>\n",
       "      <td>In the heart of Bondi Beach, everything you ne...</td>\n",
       "      <td>none</td>\n",
       "      <td>The sweeping white-sand crescent of Bondi is o...</td>\n",
       "      <td>...</td>\n",
       "      <td>t</td>\n",
       "      <td>f</td>\n",
       "      <td>moderate</td>\n",
       "      <td>f</td>\n",
       "      <td>f</td>\n",
       "      <td>3</td>\n",
       "      <td>3</td>\n",
       "      <td>0</td>\n",
       "      <td>0</td>\n",
       "      <td>NaN</td>\n",
       "    </tr>\n",
       "    <tr>\n",
       "      <th>38079</th>\n",
       "      <td>36565546</td>\n",
       "      <td>https://www.airbnb.com/rooms/36565546</td>\n",
       "      <td>20190710033517</td>\n",
       "      <td>2019-07-11</td>\n",
       "      <td>Lindfield single Room</td>\n",
       "      <td>NaN</td>\n",
       "      <td>NaN</td>\n",
       "      <td>NaN</td>\n",
       "      <td>none</td>\n",
       "      <td>NaN</td>\n",
       "      <td>...</td>\n",
       "      <td>f</td>\n",
       "      <td>f</td>\n",
       "      <td>flexible</td>\n",
       "      <td>f</td>\n",
       "      <td>f</td>\n",
       "      <td>2</td>\n",
       "      <td>0</td>\n",
       "      <td>1</td>\n",
       "      <td>1</td>\n",
       "      <td>NaN</td>\n",
       "    </tr>\n",
       "  </tbody>\n",
       "</table>\n",
       "<p>38080 rows × 106 columns</p>\n",
       "</div>"
      ],
      "text/plain": [
       "             id                            listing_url       scrape_id  \\\n",
       "0         11156     https://www.airbnb.com/rooms/11156  20190710033517   \n",
       "1         12351     https://www.airbnb.com/rooms/12351  20190710033517   \n",
       "2         14250     https://www.airbnb.com/rooms/14250  20190710033517   \n",
       "3         15253     https://www.airbnb.com/rooms/15253  20190710033517   \n",
       "4         20865     https://www.airbnb.com/rooms/20865  20190710033517   \n",
       "5         26174     https://www.airbnb.com/rooms/26174  20190710033517   \n",
       "6         38073     https://www.airbnb.com/rooms/38073  20190710033517   \n",
       "7         39348     https://www.airbnb.com/rooms/39348  20190710033517   \n",
       "8         44545     https://www.airbnb.com/rooms/44545  20190710033517   \n",
       "9         57183     https://www.airbnb.com/rooms/57183  20190710033517   \n",
       "10        58506     https://www.airbnb.com/rooms/58506  20190710033517   \n",
       "11        58954     https://www.airbnb.com/rooms/58954  20190710033517   \n",
       "12        61721     https://www.airbnb.com/rooms/61721  20190710033517   \n",
       "13        63795     https://www.airbnb.com/rooms/63795  20190710033517   \n",
       "14        65126     https://www.airbnb.com/rooms/65126  20190710033517   \n",
       "15        65635     https://www.airbnb.com/rooms/65635  20190710033517   \n",
       "16        66009     https://www.airbnb.com/rooms/66009  20190710033517   \n",
       "17        67112     https://www.airbnb.com/rooms/67112  20190710033517   \n",
       "18        68999     https://www.airbnb.com/rooms/68999  20190710033517   \n",
       "19        69121     https://www.airbnb.com/rooms/69121  20190710033517   \n",
       "20        69956     https://www.airbnb.com/rooms/69956  20190710033517   \n",
       "21        71866     https://www.airbnb.com/rooms/71866  20190710033517   \n",
       "22        73628     https://www.airbnb.com/rooms/73628  20190710033517   \n",
       "23        73639     https://www.airbnb.com/rooms/73639  20190710033517   \n",
       "24        73802     https://www.airbnb.com/rooms/73802  20190710033517   \n",
       "25        75702     https://www.airbnb.com/rooms/75702  20190710033517   \n",
       "26        79024     https://www.airbnb.com/rooms/79024  20190710033517   \n",
       "27        79624     https://www.airbnb.com/rooms/79624  20190710033517   \n",
       "28        79912     https://www.airbnb.com/rooms/79912  20190710033517   \n",
       "29        80470     https://www.airbnb.com/rooms/80470  20190710033517   \n",
       "...         ...                                    ...             ...   \n",
       "38050  36532047  https://www.airbnb.com/rooms/36532047  20190710033517   \n",
       "38051  36532195  https://www.airbnb.com/rooms/36532195  20190710033517   \n",
       "38052  36532352  https://www.airbnb.com/rooms/36532352  20190710033517   \n",
       "38053  36532389  https://www.airbnb.com/rooms/36532389  20190710033517   \n",
       "38054  36532395  https://www.airbnb.com/rooms/36532395  20190710033517   \n",
       "38055  36532698  https://www.airbnb.com/rooms/36532698  20190710033517   \n",
       "38056  36532932  https://www.airbnb.com/rooms/36532932  20190710033517   \n",
       "38057  36533785  https://www.airbnb.com/rooms/36533785  20190710033517   \n",
       "38058  36533943  https://www.airbnb.com/rooms/36533943  20190710033517   \n",
       "38059  36534716  https://www.airbnb.com/rooms/36534716  20190710033517   \n",
       "38060  36539852  https://www.airbnb.com/rooms/36539852  20190710033517   \n",
       "38061  36541197  https://www.airbnb.com/rooms/36541197  20190710033517   \n",
       "38062  36541584  https://www.airbnb.com/rooms/36541584  20190710033517   \n",
       "38063  36542395  https://www.airbnb.com/rooms/36542395  20190710033517   \n",
       "38064  36542940  https://www.airbnb.com/rooms/36542940  20190710033517   \n",
       "38065  36543034  https://www.airbnb.com/rooms/36543034  20190710033517   \n",
       "38066  36543088  https://www.airbnb.com/rooms/36543088  20190710033517   \n",
       "38067  36543242  https://www.airbnb.com/rooms/36543242  20190710033517   \n",
       "38068  36543511  https://www.airbnb.com/rooms/36543511  20190710033517   \n",
       "38069  36544200  https://www.airbnb.com/rooms/36544200  20190710033517   \n",
       "38070  36544877  https://www.airbnb.com/rooms/36544877  20190710033517   \n",
       "38071  36544955  https://www.airbnb.com/rooms/36544955  20190710033517   \n",
       "38072  36545156  https://www.airbnb.com/rooms/36545156  20190710033517   \n",
       "38073  36546180  https://www.airbnb.com/rooms/36546180  20190710033517   \n",
       "38074  36546607  https://www.airbnb.com/rooms/36546607  20190710033517   \n",
       "38075  36549376  https://www.airbnb.com/rooms/36549376  20190710033517   \n",
       "38076  36554081  https://www.airbnb.com/rooms/36554081  20190710033517   \n",
       "38077  36561062  https://www.airbnb.com/rooms/36561062  20190710033517   \n",
       "38078  36561431  https://www.airbnb.com/rooms/36561431  20190710033517   \n",
       "38079  36565546  https://www.airbnb.com/rooms/36565546  20190710033517   \n",
       "\n",
       "      last_scraped                                               name  \\\n",
       "0       2019-07-11                               An Oasis in the City   \n",
       "1       2019-07-11                  Sydney City & Harbour at the door   \n",
       "2       2019-07-10                                Manly Harbour House   \n",
       "3       2019-07-10  Stunning Penthouse Apartment In Heart Of The City   \n",
       "4       2019-07-11                 3 BED HOUSE + 1 BED STUDIO Balmain   \n",
       "5       2019-07-10                 COZY PRIVATE ROOM, GREAT LOCATION!   \n",
       "6       2019-07-10             Modern apartment with pool and parking   \n",
       "7       2019-07-10                                 Large Bondi studio   \n",
       "8       2019-07-10             Sunny Darlinghurst Warehouse Apartment   \n",
       "9       2019-07-10                  BONDI BEACHFRONT CENTRAL LOCATION   \n",
       "10      2019-07-11                      Studio Yindi @ Mosman, Sydney   \n",
       "11      2019-07-10                Christmas New Year - eastern Sydney   \n",
       "12      2019-07-10   2br Eclectic Stylish Home, 2 mins to Bondi Beach   \n",
       "13      2019-07-10                     Tree Tops Retreat Avalon Beach   \n",
       "14      2019-07-10                   Large Garden Apartment in Bondi.   \n",
       "15      2019-07-11                   Russell Hutchinson - 1st Bedroom   \n",
       "16      2019-07-10         Comfort & space in the heart of Paddington   \n",
       "17      2019-07-11                       Quiet base to explore Sydney   \n",
       "18      2019-07-11                 A little bit of Sydney - Australia   \n",
       "19      2019-07-10                northern beaches, narrabeen, sydney   \n",
       "20      2019-07-11  Cosy, Private, Self-Contained & Close to the City   \n",
       "21      2019-07-10                           A Jewel Amongst Greenery   \n",
       "22      2019-07-10                             Sunny Room in Art Deco   \n",
       "23      2019-07-11                Sydney City Home with Harbour Views   \n",
       "24      2019-07-10                 Sydney Waterfront - 15 min to City   \n",
       "25      2019-07-10  Beachside haven with gorgeous sea & Headland v...   \n",
       "26      2019-07-10                   Harbour views. Massive apartment   \n",
       "27      2019-07-11                       Private Room in Quaint House   \n",
       "28      2019-07-10                 Bronte Tranquil City/Beach Living.   \n",
       "29      2019-07-11                    Brand newly renovated 2Bed2Bath   \n",
       "...            ...                                                ...   \n",
       "38050   2019-07-10  LUX One Bedroom Apartment- In the Heart of Sydney   \n",
       "38051   2019-07-10         LUX One Bedroom Apartment- 3 Night Minimum   \n",
       "38052   2019-07-10                   Peaceful and private family home   \n",
       "38053   2019-07-10              Modern apartment steps from city, ICC   \n",
       "38054   2019-07-10  Bright Two-Bedroom Apartment Steps From Everyt...   \n",
       "38055   2019-07-11                                Best view in Sydney   \n",
       "38056   2019-07-11               Sunny & Spacious Flat In Bondi Beach   \n",
       "38057   2019-07-10   Camperdown free parking two bedroom two bathroom   \n",
       "38058   2019-07-10  SPACIOUS ONE BEDROOM-GREAT LOCATION • BROADWAY...   \n",
       "38059   2019-07-10                                            ds 1608   \n",
       "38060   2019-07-11            Quiet and comfy room with good location   \n",
       "38061   2019-07-10                 Cosy and Private Room in Greenwich   \n",
       "38062   2019-07-10      Huge ground floor duplex with private gardens   \n",
       "38063   2019-07-11                               Easy and comfortable   \n",
       "38064   2019-07-10       Great bright Bondi Beach flat with a balcony   \n",
       "38065   2019-07-10  Private room / own bathroom / opposite Beach!!!!!   \n",
       "38066   2019-07-11                                               No:5   \n",
       "38067   2019-07-11    Amazing room in beautiful house on Bondi Beach.   \n",
       "38068   2019-07-10               Cozy Apartment Close to Coogee Beach   \n",
       "38069   2019-07-10  Nice and cosy little granny flat HUGE LIVING AREA   \n",
       "38070   2019-07-10             Modern Bondi Junction/Bronte apartment   \n",
       "38071   2019-07-10  Cosy beach pad minutes to Sydney most famous b...   \n",
       "38072   2019-07-10                     Cosy aprtment at Good location   \n",
       "38073   2019-07-10  private cottage on Historic home with big back...   \n",
       "38074   2019-07-10                   Big studio near Sydney Chinatown   \n",
       "38075   2019-07-10                                   House on harbour   \n",
       "38076   2019-07-10  Beautiful OWN ROOM in a quiet and clean share ...   \n",
       "38077   2019-07-11                     Bright and Cosy Double Bedroom   \n",
       "38078   2019-07-10  Sun filled Bondi Beach Pad - 5 mins walk to beach   \n",
       "38079   2019-07-11                              Lindfield single Room   \n",
       "\n",
       "                                                 summary  \\\n",
       "0      Very central to the city which can be reached ...   \n",
       "1      Come stay with Vinh & Stuart (Awarded as one o...   \n",
       "2      Beautifully renovated, spacious and quiet, our...   \n",
       "3      Penthouse living in a great central location: ...   \n",
       "4      Hi! We are a married professional couple with ...   \n",
       "5                                                    NaN   \n",
       "6      Welcome to my sanctuary - a bright, comfortabl...   \n",
       "7      Fully self-contained sunny studio apartment.  ...   \n",
       "8      Sunny warehouse/loft apartment in the heart of...   \n",
       "9      This large, light-filled and artistically deco...   \n",
       "10     An open plan apartment, which opens onto a spa...   \n",
       "11     Our home in Bondi Junction sleeps 8.  It is 3 ...   \n",
       "12     Two blocks to the beach, surf and coffee. Larg...   \n",
       "13     Tree Tops Retreat is a bright, airy, self cont...   \n",
       "14     Huge light and airy 2 bdrm flat with dining ro...   \n",
       "15     We openly  welcome guest from all over the wor...   \n",
       "16     If you're looking for something comfortable & ...   \n",
       "17     We have a peaceful family home with a large ga...   \n",
       "18     PLEASE FIRST SEND AN EMAIL TO US BEFORE BOOKIN...   \n",
       "19                                                   NaN   \n",
       "20     This is a complete, self-contained granny flat...   \n",
       "21     Spacious, airy, fully furnished apartment in C...   \n",
       "22     My comfortable apartment, with high ceilings a...   \n",
       "23     Come stay with Vinh & Stuart (Awarded one of A...   \n",
       "24     This is a fabulous contemporary villa in perfe...   \n",
       "25     Spacious self-contained bayside apartment in q...   \n",
       "26     Our unit is the perfect place to stay to base ...   \n",
       "27     A lovely room in quiet little cottage in a cen...   \n",
       "28     Fully furnished 2 bedroom garden apartment in ...   \n",
       "29     3 Minute bus drive to the City or 20 minute wa...   \n",
       "...                                                  ...   \n",
       "38050                                                NaN   \n",
       "38051                                                NaN   \n",
       "38052                                                NaN   \n",
       "38053  Make the most of your time in Sydney when you ...   \n",
       "38054  Set in a renovated heritage building, this two...   \n",
       "38055  Beautifully furnished, spacious unit in the en...   \n",
       "38056  The flat is located on beach rd in bondi beach...   \n",
       "38057  Just opposite to USYD, near RPA, Broadway shop...   \n",
       "38058  A spacious one bedroom apartment, centrally lo...   \n",
       "38059  Wake up in the heart of the city, surrounded b...   \n",
       "38060         Private room in a clean quiet unit,  the u   \n",
       "38061                                                NaN   \n",
       "38062  Huge ground floor duplex home perfect for fami...   \n",
       "38063                                                NaN   \n",
       "38064  This ideally located apartment is only 5 minut...   \n",
       "38065  Private room with own bathroom 2 mins walk fro...   \n",
       "38066  我家是五室三卫的联排别墅､客人按照自己的需要预订独立的房间､有五个不同特色的房间让客人选择､...   \n",
       "38067  Amazing beach house on the heart of Bondi Beac...   \n",
       "38068                                                NaN   \n",
       "38069                                                NaN   \n",
       "38070                                                NaN   \n",
       "38071  Cosy beach pad, minutes to Sydney's most famou...   \n",
       "38072                                         Nice house   \n",
       "38073  My place is close to Burwood Station. You’ll l...   \n",
       "38074                                                NaN   \n",
       "38075                                                NaN   \n",
       "38076  With every detail carefully considered, my hom...   \n",
       "38077  **Short-term let** I'm going away for a couple...   \n",
       "38078  In the heart of Bondi Beach, everything you ne...   \n",
       "38079                                                NaN   \n",
       "\n",
       "                                                   space  \\\n",
       "0      Potts Pt. is a vibrant  and popular inner-city...   \n",
       "1      We're pretty relaxed hosts, and we fully appre...   \n",
       "2      Our home is a thirty minute walk along the sea...   \n",
       "3      A charming two-level, two-bedroom, two-bathroo...   \n",
       "4      HOUSE : _________ * DUCTED AIR CONDITIONING IN...   \n",
       "5      Double bed in decent sized bedroom, in two bed...   \n",
       "6      Enjoy this fabulous Home away from home, and h...   \n",
       "7      Sunny, studio apartment . Private terrace. bus...   \n",
       "8      My apartment is a beautiful, simple, open plan...   \n",
       "9      BONDI BEACHFRONT BOHEMIAN APARTMENT Why stay a...   \n",
       "10     Studio Yindi is a self-contained open plan stu...   \n",
       "11     Our lovely home, a period terrace in eastern S...   \n",
       "12     Just 2 blocks from Bondi Beach and less to you...   \n",
       "13     Ideal for individuals or couples who want to d...   \n",
       "14     Large sunny apartment in funky 1930's huge Bon...   \n",
       "15     Fully furnished comfortable room. Listing: Que...   \n",
       "16     Large double bedroom with an adjoining sun roo...   \n",
       "17     Hello!  We offer bed and breakfast in our fami...   \n",
       "18     Modern renovated home near central Sydney and ...   \n",
       "19     Light, bright and breezy one-bedroom unit. One...   \n",
       "20     Newly renovated granny flat (self contained at...   \n",
       "21     Spacious, fully furnished apartment in Clovell...   \n",
       "22     I'm a millennial creative, situated in a beaut...   \n",
       "23     Please say hello and message us  *BEFORE* you ...   \n",
       "24     The house is perched right on Gordons Bay with...   \n",
       "25     Fully self contained top storey of house with ...   \n",
       "26     MASSIVE. Fully furnished. Point blank views of...   \n",
       "27     A small quiet room in a  little cottage, one b...   \n",
       "28     A rare opportunity exists to stay in a fully f...   \n",
       "29     Welcome to Neutral Bay, arguably one of Sydney...   \n",
       "...                                                  ...   \n",
       "38050  Centrally located to Surry Hills, Hyde Park, C...   \n",
       "38051  Centrally located to Surry Hills, Hyde Park, C...   \n",
       "38052                                                NaN   \n",
       "38053  Step into our well-lit apartment and you'll fe...   \n",
       "38054  This third-floor apartment is set in the Alba ...   \n",
       "38055  Walk in and never want to leave after your lef...   \n",
       "38056                                                NaN   \n",
       "38057                                                NaN   \n",
       "38058  Cozy and roomy one bedroom apartment. We have ...   \n",
       "38059                                                NaN   \n",
       "38060                                                NaN   \n",
       "38061                                                NaN   \n",
       "38062  This property includes air conditioning, priva...   \n",
       "38063                                                NaN   \n",
       "38064  The apartment is drenched in all day sunlight ...   \n",
       "38065  Great furnished bedroom - with queen sized bed...   \n",
       "38066  我家是环境设施齐全､风景优美的联排别墅､一幢是五室三卫一厨､旁边的一幢是四室三卫一厨､共有9...   \n",
       "38067                                                NaN   \n",
       "38068                                                NaN   \n",
       "38069                                                NaN   \n",
       "38070                                                NaN   \n",
       "38071  The place is very quiet, conveniently located ...   \n",
       "38072                                                NaN   \n",
       "38073  The house is located on a large 1500 square me...   \n",
       "38074                                                NaN   \n",
       "38075                                                NaN   \n",
       "38076  This space is in a fantastic location. Less th...   \n",
       "38077  You'll be living with my flatmate Quentin, who...   \n",
       "38078  There apartment has a  beachy, boho vibe.  It ...   \n",
       "38079                                                NaN   \n",
       "\n",
       "                                             description experiences_offered  \\\n",
       "0      Very central to the city which can be reached ...                none   \n",
       "1      Come stay with Vinh & Stuart (Awarded as one o...                none   \n",
       "2      Beautifully renovated, spacious and quiet, our...                none   \n",
       "3      Penthouse living in a great central location: ...                none   \n",
       "4      Hi! We are a married professional couple with ...                none   \n",
       "5      Double bed in decent sized bedroom, in two bed...                none   \n",
       "6      Welcome to my sanctuary - a bright, comfortabl...                none   \n",
       "7      Fully self-contained sunny studio apartment.  ...                none   \n",
       "8      Sunny warehouse/loft apartment in the heart of...                none   \n",
       "9      This large, light-filled and artistically deco...                none   \n",
       "10     An open plan apartment, which opens onto a spa...                none   \n",
       "11     Our home in Bondi Junction sleeps 8.  It is 3 ...                none   \n",
       "12     Two blocks to the beach, surf and coffee. Larg...                none   \n",
       "13     Tree Tops Retreat is a bright, airy, self cont...                none   \n",
       "14     Huge light and airy 2 bdrm flat with dining ro...                none   \n",
       "15     We openly  welcome guest from all over the wor...                none   \n",
       "16     If you're looking for something comfortable & ...                none   \n",
       "17     We have a peaceful family home with a large ga...                none   \n",
       "18     PLEASE FIRST SEND AN EMAIL TO US BEFORE BOOKIN...                none   \n",
       "19     Light, bright and breezy one-bedroom unit. One...                none   \n",
       "20     This is a complete, self-contained granny flat...                none   \n",
       "21     Spacious, airy, fully furnished apartment in C...                none   \n",
       "22     My comfortable apartment, with high ceilings a...                none   \n",
       "23     Come stay with Vinh & Stuart (Awarded one of A...                none   \n",
       "24     This is a fabulous contemporary villa in perfe...                none   \n",
       "25     Spacious self-contained bayside apartment in q...                none   \n",
       "26     Our unit is the perfect place to stay to base ...                none   \n",
       "27     A lovely room in quiet little cottage in a cen...                none   \n",
       "28     Fully furnished 2 bedroom garden apartment in ...                none   \n",
       "29     3 Minute bus drive to the City or 20 minute wa...                none   \n",
       "...                                                  ...                 ...   \n",
       "38050  Centrally located to Surry Hills, Hyde Park, C...                none   \n",
       "38051  Centrally located to Surry Hills, Hyde Park, C...                none   \n",
       "38052                                                NaN                none   \n",
       "38053  Make the most of your time in Sydney when you ...                none   \n",
       "38054  Set in a renovated heritage building, this two...                none   \n",
       "38055  Beautifully furnished, spacious unit in the en...                none   \n",
       "38056  The flat is located on beach rd in bondi beach...                none   \n",
       "38057  Just opposite to USYD, near RPA, Broadway shop...                none   \n",
       "38058  A spacious one bedroom apartment, centrally lo...                none   \n",
       "38059  Wake up in the heart of the city, surrounded b...                none   \n",
       "38060         Private room in a clean quiet unit,  the u                none   \n",
       "38061                                                NaN                none   \n",
       "38062  Huge ground floor duplex home perfect for fami...                none   \n",
       "38063                                                NaN                none   \n",
       "38064  This ideally located apartment is only 5 minut...                none   \n",
       "38065  Private room with own bathroom 2 mins walk fro...                none   \n",
       "38066  我家是五室三卫的联排别墅､客人按照自己的需要预订独立的房间､有五个不同特色的房间让客人选择､...                none   \n",
       "38067  Amazing beach house on the heart of Bondi Beac...                none   \n",
       "38068                                                NaN                none   \n",
       "38069                                                NaN                none   \n",
       "38070                                                NaN                none   \n",
       "38071  Cosy beach pad, minutes to Sydney's most famou...                none   \n",
       "38072                                         Nice house                none   \n",
       "38073  My place is close to Burwood Station. You’ll l...                none   \n",
       "38074                                                NaN                none   \n",
       "38075                                                NaN                none   \n",
       "38076  With every detail carefully considered, my hom...                none   \n",
       "38077  **Short-term let** I'm going away for a couple...                none   \n",
       "38078  In the heart of Bondi Beach, everything you ne...                none   \n",
       "38079                                                NaN                none   \n",
       "\n",
       "                                   neighborhood_overview  ...  \\\n",
       "0      It is very close to everything and everywhere,...  ...   \n",
       "1      Pyrmont is an inner-city village of Sydney, on...  ...   \n",
       "2      Balgowlah Heights is one of the most prestigio...  ...   \n",
       "3      The location is really central and there is nu...  ...   \n",
       "4      BALMAIN is an older inner city village / subur...  ...   \n",
       "5                                                    NaN  ...   \n",
       "6      North Sydney, on Sydney's lower North Shore, s...  ...   \n",
       "7      Upmarket area. Very nice and quiet neighbourho...  ...   \n",
       "8      Darlinghurst is home to some of Sydney's best ...  ...   \n",
       "9      The most exciting and entertaining neighborhoo...  ...   \n",
       "10     Mosman is a smart, middle to upper class subur...  ...   \n",
       "11     We are on a quiet, tree lined, one-way street ...  ...   \n",
       "12     3 minutes to the beach and cafes.  5 minutes t...  ...   \n",
       "13     We love everything about living here and it's ...  ...   \n",
       "14     Bondi is a great place to holiday in. It has m...  ...   \n",
       "15     The shopping center is 5 min by car a 10 - 15 ...  ...   \n",
       "16                                                   NaN  ...   \n",
       "17                                                   NaN  ...   \n",
       "18                                                   NaN  ...   \n",
       "19                                                   NaN  ...   \n",
       "20     Close to Sydney Airport and multiple train sta...  ...   \n",
       "21                                                   NaN  ...   \n",
       "22     North Bondi is a super friendly neighbourhood ...  ...   \n",
       "23     Pyrmont is an inner-city village of Sydney, on...  ...   \n",
       "24     This house is directly on the famous Bondi to ...  ...   \n",
       "25     The neighbourhood is quiet as house is in a re...  ...   \n",
       "26     The neighbourhood is vibrant and going through...  ...   \n",
       "27     The neighbourhood is an area of middle class p...  ...   \n",
       "28     Close to everything, you can't go wrong in thi...  ...   \n",
       "29                                                   NaN  ...   \n",
       "...                                                  ...  ...   \n",
       "38050  Zara Tower: in the heart of Sydney’s CBD and S...  ...   \n",
       "38051  Zara Tower: in the heart of Sydney’s CBD and S...  ...   \n",
       "38052                                                NaN  ...   \n",
       "38053  Located just across Darling Harbour from the c...  ...   \n",
       "38054  If Surry Hills isn't Sydney's coolest neighbou...  ...   \n",
       "38055                                                NaN  ...   \n",
       "38056                                                NaN  ...   \n",
       "38057                                                NaN  ...   \n",
       "38058                                                NaN  ...   \n",
       "38059                                                NaN  ...   \n",
       "38060                                                NaN  ...   \n",
       "38061                                                NaN  ...   \n",
       "38062  Castle Cove is a family oriented area with loc...  ...   \n",
       "38063                                                NaN  ...   \n",
       "38064  Iconic Bondi Beach! With many bars, restaurant...  ...   \n",
       "38065  Close to shops, restaurants and across the roa...  ...   \n",
       "38066                                                NaN  ...   \n",
       "38067  Bondi is the perfect place to surfing, yoga or...  ...   \n",
       "38068                                                NaN  ...   \n",
       "38069                                                NaN  ...   \n",
       "38070                                                NaN  ...   \n",
       "38071                                                NaN  ...   \n",
       "38072                                                NaN  ...   \n",
       "38073                                                NaN  ...   \n",
       "38074                                                NaN  ...   \n",
       "38075                                                NaN  ...   \n",
       "38076  Located on a quiet terrace-lined street, the a...  ...   \n",
       "38077                                                NaN  ...   \n",
       "38078  The sweeping white-sand crescent of Bondi is o...  ...   \n",
       "38079                                                NaN  ...   \n",
       "\n",
       "      instant_bookable is_business_travel_ready          cancellation_policy  \\\n",
       "0                    f                        f                     moderate   \n",
       "1                    f                        f  strict_14_with_grace_period   \n",
       "2                    f                        f  strict_14_with_grace_period   \n",
       "3                    t                        f  strict_14_with_grace_period   \n",
       "4                    f                        f  strict_14_with_grace_period   \n",
       "5                    f                        f                     moderate   \n",
       "6                    f                        f  strict_14_with_grace_period   \n",
       "7                    t                        f  strict_14_with_grace_period   \n",
       "8                    f                        f  strict_14_with_grace_period   \n",
       "9                    f                        f  strict_14_with_grace_period   \n",
       "10                   f                        f                     moderate   \n",
       "11                   f                        f  strict_14_with_grace_period   \n",
       "12                   f                        f  strict_14_with_grace_period   \n",
       "13                   f                        f                     moderate   \n",
       "14                   f                        f  strict_14_with_grace_period   \n",
       "15                   f                        f  strict_14_with_grace_period   \n",
       "16                   f                        f                     moderate   \n",
       "17                   f                        f                     moderate   \n",
       "18                   f                        f                     flexible   \n",
       "19                   f                        f                     moderate   \n",
       "20                   t                        f                     moderate   \n",
       "21                   f                        f                     moderate   \n",
       "22                   f                        f                     moderate   \n",
       "23                   f                        f  strict_14_with_grace_period   \n",
       "24                   f                        f  strict_14_with_grace_period   \n",
       "25                   t                        f                     moderate   \n",
       "26                   f                        f  strict_14_with_grace_period   \n",
       "27                   t                        f                     flexible   \n",
       "28                   f                        f  strict_14_with_grace_period   \n",
       "29                   t                        f  strict_14_with_grace_period   \n",
       "...                ...                      ...                          ...   \n",
       "38050                t                        f                     flexible   \n",
       "38051                t                        f                     flexible   \n",
       "38052                f                        f                     flexible   \n",
       "38053                t                        f                     moderate   \n",
       "38054                t                        f                     moderate   \n",
       "38055                t                        f                     flexible   \n",
       "38056                t                        f                     flexible   \n",
       "38057                t                        f                     flexible   \n",
       "38058                t                        f  strict_14_with_grace_period   \n",
       "38059                t                        f                     flexible   \n",
       "38060                t                        f                     flexible   \n",
       "38061                f                        f                     flexible   \n",
       "38062                f                        f                     flexible   \n",
       "38063                t                        f                     flexible   \n",
       "38064                f                        f  strict_14_with_grace_period   \n",
       "38065                t                        f                     flexible   \n",
       "38066                t                        f                     flexible   \n",
       "38067                f                        f                     flexible   \n",
       "38068                t                        f                     flexible   \n",
       "38069                t                        f                     flexible   \n",
       "38070                f                        f                     flexible   \n",
       "38071                f                        f                     moderate   \n",
       "38072                t                        f                     flexible   \n",
       "38073                t                        f                     flexible   \n",
       "38074                f                        f                     flexible   \n",
       "38075                f                        f                     flexible   \n",
       "38076                t                        f                     flexible   \n",
       "38077                f                        f                     flexible   \n",
       "38078                t                        f                     moderate   \n",
       "38079                f                        f                     flexible   \n",
       "\n",
       "      require_guest_profile_picture require_guest_phone_verification  \\\n",
       "0                                 f                                f   \n",
       "1                                 t                                t   \n",
       "2                                 f                                f   \n",
       "3                                 f                                f   \n",
       "4                                 t                                t   \n",
       "5                                 f                                f   \n",
       "6                                 t                                t   \n",
       "7                                 f                                f   \n",
       "8                                 f                                t   \n",
       "9                                 f                                f   \n",
       "10                                f                                f   \n",
       "11                                f                                f   \n",
       "12                                t                                t   \n",
       "13                                f                                f   \n",
       "14                                f                                f   \n",
       "15                                f                                f   \n",
       "16                                f                                f   \n",
       "17                                f                                f   \n",
       "18                                f                                f   \n",
       "19                                f                                f   \n",
       "20                                f                                f   \n",
       "21                                f                                f   \n",
       "22                                f                                f   \n",
       "23                                t                                t   \n",
       "24                                f                                f   \n",
       "25                                f                                f   \n",
       "26                                f                                f   \n",
       "27                                f                                f   \n",
       "28                                f                                f   \n",
       "29                                f                                f   \n",
       "...                             ...                              ...   \n",
       "38050                             f                                f   \n",
       "38051                             f                                f   \n",
       "38052                             f                                f   \n",
       "38053                             f                                f   \n",
       "38054                             f                                f   \n",
       "38055                             f                                f   \n",
       "38056                             f                                f   \n",
       "38057                             f                                f   \n",
       "38058                             f                                f   \n",
       "38059                             f                                f   \n",
       "38060                             f                                f   \n",
       "38061                             f                                f   \n",
       "38062                             f                                f   \n",
       "38063                             f                                f   \n",
       "38064                             f                                f   \n",
       "38065                             f                                f   \n",
       "38066                             f                                f   \n",
       "38067                             f                                f   \n",
       "38068                             f                                f   \n",
       "38069                             f                                f   \n",
       "38070                             f                                f   \n",
       "38071                             f                                f   \n",
       "38072                             f                                f   \n",
       "38073                             f                                f   \n",
       "38074                             f                                f   \n",
       "38075                             f                                f   \n",
       "38076                             f                                f   \n",
       "38077                             f                                f   \n",
       "38078                             f                                f   \n",
       "38079                             f                                f   \n",
       "\n",
       "       calculated_host_listings_count  \\\n",
       "0                                   1   \n",
       "1                                   2   \n",
       "2                                   2   \n",
       "3                                   3   \n",
       "4                                   1   \n",
       "5                                   1   \n",
       "6                                   2   \n",
       "7                                   1   \n",
       "8                                   1   \n",
       "9                                   1   \n",
       "10                                  1   \n",
       "11                                  1   \n",
       "12                                  1   \n",
       "13                                  1   \n",
       "14                                  1   \n",
       "15                                  7   \n",
       "16                                  1   \n",
       "17                                  1   \n",
       "18                                  1   \n",
       "19                                  1   \n",
       "20                                  1   \n",
       "21                                  5   \n",
       "22                                  2   \n",
       "23                                  2   \n",
       "24                                  1   \n",
       "25                                  1   \n",
       "26                                  1   \n",
       "27                                  2   \n",
       "28                                  1   \n",
       "29                                  1   \n",
       "...                               ...   \n",
       "38050                               9   \n",
       "38051                               9   \n",
       "38052                               1   \n",
       "38053                               2   \n",
       "38054                               2   \n",
       "38055                               1   \n",
       "38056                               1   \n",
       "38057                               5   \n",
       "38058                               5   \n",
       "38059                               4   \n",
       "38060                               1   \n",
       "38061                               1   \n",
       "38062                               1   \n",
       "38063                               2   \n",
       "38064                               1   \n",
       "38065                               2   \n",
       "38066                               5   \n",
       "38067                               1   \n",
       "38068                               1   \n",
       "38069                               1   \n",
       "38070                               1   \n",
       "38071                               2   \n",
       "38072                               1   \n",
       "38073                               2   \n",
       "38074                               4   \n",
       "38075                               2   \n",
       "38076                               4   \n",
       "38077                               1   \n",
       "38078                               3   \n",
       "38079                               2   \n",
       "\n",
       "       calculated_host_listings_count_entire_homes  \\\n",
       "0                                                0   \n",
       "1                                                0   \n",
       "2                                                2   \n",
       "3                                                2   \n",
       "4                                                1   \n",
       "5                                                0   \n",
       "6                                                1   \n",
       "7                                                1   \n",
       "8                                                1   \n",
       "9                                                1   \n",
       "10                                               1   \n",
       "11                                               1   \n",
       "12                                               1   \n",
       "13                                               1   \n",
       "14                                               1   \n",
       "15                                               5   \n",
       "16                                               0   \n",
       "17                                               0   \n",
       "18                                               0   \n",
       "19                                               1   \n",
       "20                                               1   \n",
       "21                                               5   \n",
       "22                                               1   \n",
       "23                                               0   \n",
       "24                                               1   \n",
       "25                                               1   \n",
       "26                                               1   \n",
       "27                                               0   \n",
       "28                                               1   \n",
       "29                                               1   \n",
       "...                                            ...   \n",
       "38050                                            9   \n",
       "38051                                            9   \n",
       "38052                                            1   \n",
       "38053                                            2   \n",
       "38054                                            2   \n",
       "38055                                            1   \n",
       "38056                                            1   \n",
       "38057                                            2   \n",
       "38058                                            5   \n",
       "38059                                            4   \n",
       "38060                                            0   \n",
       "38061                                            0   \n",
       "38062                                            1   \n",
       "38063                                            1   \n",
       "38064                                            1   \n",
       "38065                                            0   \n",
       "38066                                            1   \n",
       "38067                                            0   \n",
       "38068                                            1   \n",
       "38069                                            1   \n",
       "38070                                            0   \n",
       "38071                                            1   \n",
       "38072                                            1   \n",
       "38073                                            0   \n",
       "38074                                            1   \n",
       "38075                                            2   \n",
       "38076                                            3   \n",
       "38077                                            0   \n",
       "38078                                            3   \n",
       "38079                                            0   \n",
       "\n",
       "      calculated_host_listings_count_private_rooms  \\\n",
       "0                                                1   \n",
       "1                                                2   \n",
       "2                                                0   \n",
       "3                                                1   \n",
       "4                                                0   \n",
       "5                                                1   \n",
       "6                                                0   \n",
       "7                                                0   \n",
       "8                                                0   \n",
       "9                                                0   \n",
       "10                                               0   \n",
       "11                                               0   \n",
       "12                                               0   \n",
       "13                                               0   \n",
       "14                                               0   \n",
       "15                                               1   \n",
       "16                                               1   \n",
       "17                                               1   \n",
       "18                                               1   \n",
       "19                                               0   \n",
       "20                                               0   \n",
       "21                                               0   \n",
       "22                                               1   \n",
       "23                                               2   \n",
       "24                                               0   \n",
       "25                                               0   \n",
       "26                                               0   \n",
       "27                                               2   \n",
       "28                                               0   \n",
       "29                                               0   \n",
       "...                                            ...   \n",
       "38050                                            0   \n",
       "38051                                            0   \n",
       "38052                                            0   \n",
       "38053                                            0   \n",
       "38054                                            0   \n",
       "38055                                            0   \n",
       "38056                                            0   \n",
       "38057                                            3   \n",
       "38058                                            0   \n",
       "38059                                            0   \n",
       "38060                                            1   \n",
       "38061                                            1   \n",
       "38062                                            0   \n",
       "38063                                            1   \n",
       "38064                                            0   \n",
       "38065                                            2   \n",
       "38066                                            4   \n",
       "38067                                            1   \n",
       "38068                                            0   \n",
       "38069                                            0   \n",
       "38070                                            1   \n",
       "38071                                            1   \n",
       "38072                                            0   \n",
       "38073                                            2   \n",
       "38074                                            3   \n",
       "38075                                            0   \n",
       "38076                                            1   \n",
       "38077                                            1   \n",
       "38078                                            0   \n",
       "38079                                            1   \n",
       "\n",
       "       calculated_host_listings_count_shared_rooms  reviews_per_month  \n",
       "0                                                0               1.58  \n",
       "1                                                0               4.73  \n",
       "2                                                0               0.05  \n",
       "3                                                0               3.60  \n",
       "4                                                0               0.17  \n",
       "5                                                0               0.45  \n",
       "6                                                1               0.60  \n",
       "7                                                0               0.67  \n",
       "8                                                0               0.56  \n",
       "9                                                0               1.24  \n",
       "10                                               0               2.42  \n",
       "11                                               0                NaN  \n",
       "12                                               0               0.25  \n",
       "13                                               0               0.62  \n",
       "14                                               0               0.11  \n",
       "15                                               1               1.60  \n",
       "16                                               0               0.02  \n",
       "17                                               0               0.22  \n",
       "18                                               0               0.48  \n",
       "19                                               0                NaN  \n",
       "20                                               0               0.20  \n",
       "21                                               0               0.03  \n",
       "22                                               0               0.08  \n",
       "23                                               0               3.78  \n",
       "24                                               0               0.16  \n",
       "25                                               0               2.35  \n",
       "26                                               0               3.03  \n",
       "27                                               0               0.84  \n",
       "28                                               0               0.16  \n",
       "29                                               0               0.06  \n",
       "...                                            ...                ...  \n",
       "38050                                            0                NaN  \n",
       "38051                                            0                NaN  \n",
       "38052                                            0                NaN  \n",
       "38053                                            0                NaN  \n",
       "38054                                            0                NaN  \n",
       "38055                                            0                NaN  \n",
       "38056                                            0                NaN  \n",
       "38057                                            0                NaN  \n",
       "38058                                            0                NaN  \n",
       "38059                                            0                NaN  \n",
       "38060                                            0                NaN  \n",
       "38061                                            0                NaN  \n",
       "38062                                            0                NaN  \n",
       "38063                                            0                NaN  \n",
       "38064                                            0                NaN  \n",
       "38065                                            0                NaN  \n",
       "38066                                            0                NaN  \n",
       "38067                                            0                NaN  \n",
       "38068                                            0                NaN  \n",
       "38069                                            0                NaN  \n",
       "38070                                            0                NaN  \n",
       "38071                                            0                NaN  \n",
       "38072                                            0                NaN  \n",
       "38073                                            0                NaN  \n",
       "38074                                            0                NaN  \n",
       "38075                                            0                NaN  \n",
       "38076                                            0                NaN  \n",
       "38077                                            0                NaN  \n",
       "38078                                            0                NaN  \n",
       "38079                                            1                NaN  \n",
       "\n",
       "[38080 rows x 106 columns]"
      ]
     },
     "execution_count": 5,
     "metadata": {},
     "output_type": "execute_result"
    }
   ],
   "source": [
    "airbnb_data"
   ]
  },
  {
   "cell_type": "code",
   "execution_count": 6,
   "metadata": {
    "slideshow": {
     "slide_type": "slide"
    }
   },
   "outputs": [],
   "source": [
    "city = airbnb_data[['smart_location','price','latitude','longitude']]"
   ]
  },
  {
   "cell_type": "markdown",
   "metadata": {
    "slideshow": {
     "slide_type": "slide"
    }
   },
   "source": [
    "Let's check if the columns that we created in the subset have been accurately generated."
   ]
  },
  {
   "cell_type": "code",
   "execution_count": 7,
   "metadata": {
    "slideshow": {
     "slide_type": "slide"
    }
   },
   "outputs": [
    {
     "data": {
      "text/plain": [
       "Index(['smart_location', 'price', 'latitude', 'longitude'], dtype='object')"
      ]
     },
     "execution_count": 7,
     "metadata": {},
     "output_type": "execute_result"
    }
   ],
   "source": [
    "city.columns"
   ]
  },
  {
   "cell_type": "code",
   "execution_count": 8,
   "metadata": {
    "slideshow": {
     "slide_type": "slide"
    }
   },
   "outputs": [
    {
     "data": {
      "text/html": [
       "<div>\n",
       "<style scoped>\n",
       "    .dataframe tbody tr th:only-of-type {\n",
       "        vertical-align: middle;\n",
       "    }\n",
       "\n",
       "    .dataframe tbody tr th {\n",
       "        vertical-align: top;\n",
       "    }\n",
       "\n",
       "    .dataframe thead th {\n",
       "        text-align: right;\n",
       "    }\n",
       "</style>\n",
       "<table border=\"1\" class=\"dataframe\">\n",
       "  <thead>\n",
       "    <tr style=\"text-align: right;\">\n",
       "      <th></th>\n",
       "      <th>smart_location</th>\n",
       "      <th>price</th>\n",
       "      <th>latitude</th>\n",
       "      <th>longitude</th>\n",
       "    </tr>\n",
       "  </thead>\n",
       "  <tbody>\n",
       "    <tr>\n",
       "      <th>0</th>\n",
       "      <td>Potts Point, Australia</td>\n",
       "      <td>$65.00</td>\n",
       "      <td>-33.86917</td>\n",
       "      <td>151.22656</td>\n",
       "    </tr>\n",
       "    <tr>\n",
       "      <th>1</th>\n",
       "      <td>Pyrmont, Australia</td>\n",
       "      <td>$14,316.00</td>\n",
       "      <td>-33.86515</td>\n",
       "      <td>151.19190</td>\n",
       "    </tr>\n",
       "    <tr>\n",
       "      <th>2</th>\n",
       "      <td>Balgowlah, Australia</td>\n",
       "      <td>$470.00</td>\n",
       "      <td>-33.80093</td>\n",
       "      <td>151.26172</td>\n",
       "    </tr>\n",
       "    <tr>\n",
       "      <th>3</th>\n",
       "      <td>Darlinghurst, Australia</td>\n",
       "      <td>$110.00</td>\n",
       "      <td>-33.88045</td>\n",
       "      <td>151.21654</td>\n",
       "    </tr>\n",
       "    <tr>\n",
       "      <th>4</th>\n",
       "      <td>Balmain, Australia</td>\n",
       "      <td>$450.00</td>\n",
       "      <td>-33.85907</td>\n",
       "      <td>151.17275</td>\n",
       "    </tr>\n",
       "  </tbody>\n",
       "</table>\n",
       "</div>"
      ],
      "text/plain": [
       "            smart_location       price  latitude  longitude\n",
       "0   Potts Point, Australia      $65.00 -33.86917  151.22656\n",
       "1       Pyrmont, Australia  $14,316.00 -33.86515  151.19190\n",
       "2     Balgowlah, Australia     $470.00 -33.80093  151.26172\n",
       "3  Darlinghurst, Australia     $110.00 -33.88045  151.21654\n",
       "4       Balmain, Australia     $450.00 -33.85907  151.17275"
      ]
     },
     "execution_count": 8,
     "metadata": {},
     "output_type": "execute_result"
    }
   ],
   "source": [
    "city.head()"
   ]
  },
  {
   "cell_type": "markdown",
   "metadata": {
    "slideshow": {
     "slide_type": "slide"
    }
   },
   "source": [
    "So we can see that the price is displayed as a string. Although this is useful and easier to read, when it comes to analysing strings, we can't go that far.\n",
    "\n",
    "So the next lines of code convert the strings into floats.\n",
    "\n",
    "This will allow us to closely analyse the prices within various locations within Sydney.\n",
    "\n",
    "These locations are called 'smart_location' in our dataset."
   ]
  },
  {
   "cell_type": "code",
   "execution_count": 9,
   "metadata": {
    "slideshow": {
     "slide_type": "slide"
    }
   },
   "outputs": [
    {
     "name": "stderr",
     "output_type": "stream",
     "text": [
      "/anaconda3/lib/python3.7/site-packages/ipykernel_launcher.py:10: SettingWithCopyWarning: \n",
      "A value is trying to be set on a copy of a slice from a DataFrame.\n",
      "Try using .loc[row_indexer,col_indexer] = value instead\n",
      "\n",
      "See the caveats in the documentation: http://pandas.pydata.org/pandas-docs/stable/indexing.html#indexing-view-versus-copy\n",
      "  # Remove the CWD from sys.path while we load stuff.\n"
     ]
    },
    {
     "data": {
      "text/html": [
       "<div>\n",
       "<style scoped>\n",
       "    .dataframe tbody tr th:only-of-type {\n",
       "        vertical-align: middle;\n",
       "    }\n",
       "\n",
       "    .dataframe tbody tr th {\n",
       "        vertical-align: top;\n",
       "    }\n",
       "\n",
       "    .dataframe thead th {\n",
       "        text-align: right;\n",
       "    }\n",
       "</style>\n",
       "<table border=\"1\" class=\"dataframe\">\n",
       "  <thead>\n",
       "    <tr style=\"text-align: right;\">\n",
       "      <th></th>\n",
       "      <th>smart_location</th>\n",
       "      <th>price</th>\n",
       "      <th>latitude</th>\n",
       "      <th>longitude</th>\n",
       "      <th>price_num</th>\n",
       "    </tr>\n",
       "  </thead>\n",
       "  <tbody>\n",
       "    <tr>\n",
       "      <th>36473</th>\n",
       "      <td>Coogee, Australia</td>\n",
       "      <td>$174.00</td>\n",
       "      <td>-33.91741</td>\n",
       "      <td>151.25808</td>\n",
       "      <td>174.0</td>\n",
       "    </tr>\n",
       "    <tr>\n",
       "      <th>28295</th>\n",
       "      <td>Haymarket, Australia</td>\n",
       "      <td>$150.00</td>\n",
       "      <td>-33.87914</td>\n",
       "      <td>151.20246</td>\n",
       "      <td>150.0</td>\n",
       "    </tr>\n",
       "    <tr>\n",
       "      <th>4393</th>\n",
       "      <td>Sydney, Australia</td>\n",
       "      <td>$45.00</td>\n",
       "      <td>-33.89507</td>\n",
       "      <td>151.26537</td>\n",
       "      <td>45.0</td>\n",
       "    </tr>\n",
       "    <tr>\n",
       "      <th>15707</th>\n",
       "      <td>Queens Park, Australia</td>\n",
       "      <td>$37.00</td>\n",
       "      <td>-33.89579</td>\n",
       "      <td>151.24612</td>\n",
       "      <td>37.0</td>\n",
       "    </tr>\n",
       "  </tbody>\n",
       "</table>\n",
       "</div>"
      ],
      "text/plain": [
       "               smart_location    price  latitude  longitude  price_num\n",
       "36473       Coogee, Australia  $174.00 -33.91741  151.25808      174.0\n",
       "28295    Haymarket, Australia  $150.00 -33.87914  151.20246      150.0\n",
       "4393        Sydney, Australia   $45.00 -33.89507  151.26537       45.0\n",
       "15707  Queens Park, Australia   $37.00 -33.89579  151.24612       37.0"
      ]
     },
     "execution_count": 9,
     "metadata": {},
     "output_type": "execute_result"
    }
   ],
   "source": [
    "from re import sub\n",
    "def str_money_to_number(row):\n",
    "    if row.price[0] == \"$\":\n",
    "        just_number = sub(r'[^\\d.]', '', row.price)\n",
    "        return float(just_number)\n",
    "    else:\n",
    "        print(\"errrrrr\", row.price)\n",
    "        return row.price\n",
    "\n",
    "city[\"price_num\"] = city.apply(str_money_to_number, axis=1)\n",
    "city.sample(4)"
   ]
  },
  {
   "cell_type": "markdown",
   "metadata": {
    "slideshow": {
     "slide_type": "subslide"
    }
   },
   "source": [
    "And there we go! \n",
    "\n",
    "(Credits to Ben for helping me with that code)"
   ]
  },
  {
   "cell_type": "code",
   "execution_count": 10,
   "metadata": {
    "scrolled": true,
    "slideshow": {
     "slide_type": "slide"
    }
   },
   "outputs": [
    {
     "data": {
      "text/plain": [
       "0            Potts Point, Australia\n",
       "1                Pyrmont, Australia\n",
       "2              Balgowlah, Australia\n",
       "3           Darlinghurst, Australia\n",
       "4                Balmain, Australia\n",
       "5          Bellevue Hill, Australia\n",
       "6           North Sydney, Australia\n",
       "7            North Bondi, Australia\n",
       "8           Darlinghurst, Australia\n",
       "9            Bondi Beach, Australia\n",
       "10                Mosman, Australia\n",
       "11        Bondi Junction, Australia\n",
       "12           Bondi Beach, Australia\n",
       "13                Avalon, Australia\n",
       "14           Bondi Beach, Australia\n",
       "15        Lane Cove West, Australia\n",
       "16            Paddington, Australia\n",
       "17          Marrickville, Australia\n",
       "18           Cherrybrook, Australia\n",
       "19             Narrabeen, Australia\n",
       "20       Bardwell Valley, Australia\n",
       "21                Sydney, Australia\n",
       "22           Bondi Beach, Australia\n",
       "23               Pyrmont, Australia\n",
       "24                Coogee, Australia\n",
       "25               Malabar, Australia\n",
       "26                Sydney, Australia\n",
       "27           Neutral Bay, Australia\n",
       "28                Bronte, Australia\n",
       "29           Neutral Bay, Australia\n",
       "                    ...            \n",
       "38050             Sydney, Australia\n",
       "38051             Sydney, Australia\n",
       "38052            Telopea, Australia\n",
       "38053            Pyrmont, Australia\n",
       "38054        Surry Hills, Australia\n",
       "38055              Manly, Australia\n",
       "38056        Bondi Beach, Australia\n",
       "38057         Camperdown, Australia\n",
       "38058             Ultimo, Australia\n",
       "38059          Haymarket, Australia\n",
       "38060     Macquarie Park, Australia\n",
       "38061          Greenwich, Australia\n",
       "38062        Castle Cove, Australia\n",
       "38063            Pyrmont, Australia\n",
       "38064        Bondi Beach, Australia\n",
       "38065            Newport, Australia\n",
       "38066        Carlingford, Australia\n",
       "38067              Bondi, Australia\n",
       "38068             Coogee, Australia\n",
       "38069       Quakers Hill, Australia\n",
       "38070        Queens Park, Australia\n",
       "38071        Bondi Beach, Australia\n",
       "38072             Ultimo, Australia\n",
       "38073    Burwood Heights, Australia\n",
       "38074          Haymarket, Australia\n",
       "38075       Balmain East, Australia\n",
       "38076         Darlington, Australia\n",
       "38077    Rushcutters Bay, Australia\n",
       "38078        Bondi Beach, Australia\n",
       "38079          Lindfield, Australia\n",
       "Name: smart_location, Length: 38080, dtype: object"
      ]
     },
     "execution_count": 10,
     "metadata": {},
     "output_type": "execute_result"
    }
   ],
   "source": [
    "city['smart_location']"
   ]
  },
  {
   "cell_type": "code",
   "execution_count": 11,
   "metadata": {
    "slideshow": {
     "slide_type": "slide"
    }
   },
   "outputs": [],
   "source": [
    "#city['smart_location'].hist()"
   ]
  },
  {
   "cell_type": "markdown",
   "metadata": {
    "slideshow": {
     "slide_type": "subslide"
    }
   },
   "source": [
    "So before we create a histogram, let's check out how many locations there are..."
   ]
  },
  {
   "cell_type": "code",
   "execution_count": 12,
   "metadata": {
    "slideshow": {
     "slide_type": "slide"
    }
   },
   "outputs": [
    {
     "data": {
      "text/plain": [
       "smart_location    38080\n",
       "price             38080\n",
       "latitude          38080\n",
       "longitude         38080\n",
       "price_num         38080\n",
       "dtype: int64"
      ]
     },
     "execution_count": 12,
     "metadata": {},
     "output_type": "execute_result"
    }
   ],
   "source": [
    "city.count()"
   ]
  },
  {
   "cell_type": "markdown",
   "metadata": {
    "slideshow": {
     "slide_type": "slide"
    }
   },
   "source": [
    "It's good we didn't run the code, as the number of values would've taken ages to process!"
   ]
  },
  {
   "cell_type": "code",
   "execution_count": 13,
   "metadata": {
    "slideshow": {
     "slide_type": "slide"
    }
   },
   "outputs": [
    {
     "data": {
      "text/plain": [
       "0.0"
      ]
     },
     "execution_count": 13,
     "metadata": {},
     "output_type": "execute_result"
    }
   ],
   "source": [
    "city.price_num.min()"
   ]
  },
  {
   "cell_type": "code",
   "execution_count": 14,
   "metadata": {
    "slideshow": {
     "slide_type": "slide"
    }
   },
   "outputs": [
    {
     "data": {
      "text/plain": [
       "36128.0"
      ]
     },
     "execution_count": 14,
     "metadata": {},
     "output_type": "execute_result"
    }
   ],
   "source": [
    "city.price_num.max()"
   ]
  },
  {
   "cell_type": "code",
   "execution_count": 15,
   "metadata": {
    "slideshow": {
     "slide_type": "slide"
    }
   },
   "outputs": [
    {
     "data": {
      "text/plain": [
       "205.80832457983195"
      ]
     },
     "execution_count": 15,
     "metadata": {},
     "output_type": "execute_result"
    }
   ],
   "source": [
    "city.price_num.mean()"
   ]
  },
  {
   "cell_type": "code",
   "execution_count": 16,
   "metadata": {
    "slideshow": {
     "slide_type": "slide"
    }
   },
   "outputs": [
    {
     "data": {
      "text/plain": [
       "130.0"
      ]
     },
     "execution_count": 16,
     "metadata": {},
     "output_type": "execute_result"
    }
   ],
   "source": [
    "city.price_num.median()"
   ]
  },
  {
   "cell_type": "code",
   "execution_count": 44,
   "metadata": {
    "slideshow": {
     "slide_type": "slide"
    }
   },
   "outputs": [],
   "source": [
    "kensington = city[city.smart_location == 'Kensington, Australia']\n",
    "sydney = city[city.smart_location == 'Sydney, Australia']\n",
    "cremorne = city[city.smart_location == 'Cremorne Point, Australia']\n",
    "kirribilli = city[city.smart_location == 'Kirribilli, Australia']\n",
    "birchgrove = city[city.smart_location == 'Birchgrove, Australia']\n",
    "greenwich = city[city.smart_location == 'Greenwich, Australia']\n",
    "shark = city[city.smart_location == 'Shark Island, Australia']"
   ]
  },
  {
   "cell_type": "code",
   "execution_count": 18,
   "metadata": {
    "slideshow": {
     "slide_type": "slide"
    }
   },
   "outputs": [
    {
     "data": {
      "text/html": [
       "<div>\n",
       "<style scoped>\n",
       "    .dataframe tbody tr th:only-of-type {\n",
       "        vertical-align: middle;\n",
       "    }\n",
       "\n",
       "    .dataframe tbody tr th {\n",
       "        vertical-align: top;\n",
       "    }\n",
       "\n",
       "    .dataframe thead th {\n",
       "        text-align: right;\n",
       "    }\n",
       "</style>\n",
       "<table border=\"1\" class=\"dataframe\">\n",
       "  <thead>\n",
       "    <tr style=\"text-align: right;\">\n",
       "      <th></th>\n",
       "      <th>smart_location</th>\n",
       "      <th>price</th>\n",
       "      <th>latitude</th>\n",
       "      <th>longitude</th>\n",
       "      <th>price_num</th>\n",
       "    </tr>\n",
       "  </thead>\n",
       "  <tbody>\n",
       "    <tr>\n",
       "      <th>2856</th>\n",
       "      <td>Sydney, Australia</td>\n",
       "      <td>$99.00</td>\n",
       "      <td>-33.72535</td>\n",
       "      <td>151.11599</td>\n",
       "      <td>99.0</td>\n",
       "    </tr>\n",
       "  </tbody>\n",
       "</table>\n",
       "</div>"
      ],
      "text/plain": [
       "         smart_location   price  latitude  longitude  price_num\n",
       "2856  Sydney, Australia  $99.00 -33.72535  151.11599       99.0"
      ]
     },
     "execution_count": 18,
     "metadata": {},
     "output_type": "execute_result"
    }
   ],
   "source": [
    "sydney.sample()"
   ]
  },
  {
   "cell_type": "code",
   "execution_count": 19,
   "metadata": {
    "slideshow": {
     "slide_type": "slide"
    }
   },
   "outputs": [
    {
     "data": {
      "text/html": [
       "<div>\n",
       "<style scoped>\n",
       "    .dataframe tbody tr th:only-of-type {\n",
       "        vertical-align: middle;\n",
       "    }\n",
       "\n",
       "    .dataframe tbody tr th {\n",
       "        vertical-align: top;\n",
       "    }\n",
       "\n",
       "    .dataframe thead th {\n",
       "        text-align: right;\n",
       "    }\n",
       "</style>\n",
       "<table border=\"1\" class=\"dataframe\">\n",
       "  <thead>\n",
       "    <tr style=\"text-align: right;\">\n",
       "      <th></th>\n",
       "      <th>smart_location</th>\n",
       "      <th>price</th>\n",
       "      <th>latitude</th>\n",
       "      <th>longitude</th>\n",
       "      <th>price_num</th>\n",
       "    </tr>\n",
       "  </thead>\n",
       "  <tbody>\n",
       "    <tr>\n",
       "      <th>15523</th>\n",
       "      <td>Cremorne Point, Australia</td>\n",
       "      <td>$500.00</td>\n",
       "      <td>-33.83746</td>\n",
       "      <td>151.22465</td>\n",
       "      <td>500.0</td>\n",
       "    </tr>\n",
       "  </tbody>\n",
       "</table>\n",
       "</div>"
      ],
      "text/plain": [
       "                  smart_location    price  latitude  longitude  price_num\n",
       "15523  Cremorne Point, Australia  $500.00 -33.83746  151.22465      500.0"
      ]
     },
     "execution_count": 19,
     "metadata": {},
     "output_type": "execute_result"
    }
   ],
   "source": [
    "cremorne.sample()"
   ]
  },
  {
   "cell_type": "code",
   "execution_count": 20,
   "metadata": {
    "slideshow": {
     "slide_type": "slide"
    }
   },
   "outputs": [
    {
     "data": {
      "text/html": [
       "<div>\n",
       "<style scoped>\n",
       "    .dataframe tbody tr th:only-of-type {\n",
       "        vertical-align: middle;\n",
       "    }\n",
       "\n",
       "    .dataframe tbody tr th {\n",
       "        vertical-align: top;\n",
       "    }\n",
       "\n",
       "    .dataframe thead th {\n",
       "        text-align: right;\n",
       "    }\n",
       "</style>\n",
       "<table border=\"1\" class=\"dataframe\">\n",
       "  <thead>\n",
       "    <tr style=\"text-align: right;\">\n",
       "      <th></th>\n",
       "      <th>smart_location</th>\n",
       "      <th>price</th>\n",
       "      <th>latitude</th>\n",
       "      <th>longitude</th>\n",
       "      <th>price_num</th>\n",
       "    </tr>\n",
       "  </thead>\n",
       "  <tbody>\n",
       "    <tr>\n",
       "      <th>28357</th>\n",
       "      <td>Kirribilli, Australia</td>\n",
       "      <td>$5,000.00</td>\n",
       "      <td>-33.85005</td>\n",
       "      <td>151.21882</td>\n",
       "      <td>5000.0</td>\n",
       "    </tr>\n",
       "  </tbody>\n",
       "</table>\n",
       "</div>"
      ],
      "text/plain": [
       "              smart_location      price  latitude  longitude  price_num\n",
       "28357  Kirribilli, Australia  $5,000.00 -33.85005  151.21882     5000.0"
      ]
     },
     "execution_count": 20,
     "metadata": {},
     "output_type": "execute_result"
    }
   ],
   "source": [
    "kirribilli.sample()"
   ]
  },
  {
   "cell_type": "code",
   "execution_count": 21,
   "metadata": {
    "slideshow": {
     "slide_type": "slide"
    }
   },
   "outputs": [
    {
     "data": {
      "text/html": [
       "<div>\n",
       "<style scoped>\n",
       "    .dataframe tbody tr th:only-of-type {\n",
       "        vertical-align: middle;\n",
       "    }\n",
       "\n",
       "    .dataframe tbody tr th {\n",
       "        vertical-align: top;\n",
       "    }\n",
       "\n",
       "    .dataframe thead th {\n",
       "        text-align: right;\n",
       "    }\n",
       "</style>\n",
       "<table border=\"1\" class=\"dataframe\">\n",
       "  <thead>\n",
       "    <tr style=\"text-align: right;\">\n",
       "      <th></th>\n",
       "      <th>smart_location</th>\n",
       "      <th>price</th>\n",
       "      <th>latitude</th>\n",
       "      <th>longitude</th>\n",
       "      <th>price_num</th>\n",
       "    </tr>\n",
       "  </thead>\n",
       "  <tbody>\n",
       "    <tr>\n",
       "      <th>7970</th>\n",
       "      <td>Birchgrove, Australia</td>\n",
       "      <td>$233.00</td>\n",
       "      <td>-33.8515</td>\n",
       "      <td>151.17794</td>\n",
       "      <td>233.0</td>\n",
       "    </tr>\n",
       "  </tbody>\n",
       "</table>\n",
       "</div>"
      ],
      "text/plain": [
       "             smart_location    price  latitude  longitude  price_num\n",
       "7970  Birchgrove, Australia  $233.00  -33.8515  151.17794      233.0"
      ]
     },
     "execution_count": 21,
     "metadata": {},
     "output_type": "execute_result"
    }
   ],
   "source": [
    "birchgrove.sample()"
   ]
  },
  {
   "cell_type": "code",
   "execution_count": 22,
   "metadata": {
    "slideshow": {
     "slide_type": "slide"
    }
   },
   "outputs": [
    {
     "data": {
      "text/html": [
       "<div>\n",
       "<style scoped>\n",
       "    .dataframe tbody tr th:only-of-type {\n",
       "        vertical-align: middle;\n",
       "    }\n",
       "\n",
       "    .dataframe tbody tr th {\n",
       "        vertical-align: top;\n",
       "    }\n",
       "\n",
       "    .dataframe thead th {\n",
       "        text-align: right;\n",
       "    }\n",
       "</style>\n",
       "<table border=\"1\" class=\"dataframe\">\n",
       "  <thead>\n",
       "    <tr style=\"text-align: right;\">\n",
       "      <th></th>\n",
       "      <th>smart_location</th>\n",
       "      <th>price</th>\n",
       "      <th>latitude</th>\n",
       "      <th>longitude</th>\n",
       "      <th>price_num</th>\n",
       "    </tr>\n",
       "  </thead>\n",
       "  <tbody>\n",
       "    <tr>\n",
       "      <th>17089</th>\n",
       "      <td>Greenwich, Australia</td>\n",
       "      <td>$1,099.00</td>\n",
       "      <td>-33.82269</td>\n",
       "      <td>151.18199</td>\n",
       "      <td>1099.0</td>\n",
       "    </tr>\n",
       "  </tbody>\n",
       "</table>\n",
       "</div>"
      ],
      "text/plain": [
       "             smart_location      price  latitude  longitude  price_num\n",
       "17089  Greenwich, Australia  $1,099.00 -33.82269  151.18199     1099.0"
      ]
     },
     "execution_count": 22,
     "metadata": {},
     "output_type": "execute_result"
    }
   ],
   "source": [
    "greenwich.sample()"
   ]
  },
  {
   "cell_type": "code",
   "execution_count": 23,
   "metadata": {
    "slideshow": {
     "slide_type": "slide"
    }
   },
   "outputs": [
    {
     "data": {
      "text/html": [
       "<div>\n",
       "<style scoped>\n",
       "    .dataframe tbody tr th:only-of-type {\n",
       "        vertical-align: middle;\n",
       "    }\n",
       "\n",
       "    .dataframe tbody tr th {\n",
       "        vertical-align: top;\n",
       "    }\n",
       "\n",
       "    .dataframe thead th {\n",
       "        text-align: right;\n",
       "    }\n",
       "</style>\n",
       "<table border=\"1\" class=\"dataframe\">\n",
       "  <thead>\n",
       "    <tr style=\"text-align: right;\">\n",
       "      <th></th>\n",
       "      <th>smart_location</th>\n",
       "      <th>price</th>\n",
       "      <th>latitude</th>\n",
       "      <th>longitude</th>\n",
       "      <th>price_num</th>\n",
       "    </tr>\n",
       "  </thead>\n",
       "  <tbody>\n",
       "  </tbody>\n",
       "</table>\n",
       "</div>"
      ],
      "text/plain": [
       "Empty DataFrame\n",
       "Columns: [smart_location, price, latitude, longitude, price_num]\n",
       "Index: []"
      ]
     },
     "execution_count": 23,
     "metadata": {},
     "output_type": "execute_result"
    }
   ],
   "source": [
    "shark"
   ]
  },
  {
   "cell_type": "code",
   "execution_count": 24,
   "metadata": {
    "slideshow": {
     "slide_type": "slide"
    }
   },
   "outputs": [
    {
     "data": {
      "image/png": "[encoded data removed]",
      "text/plain": [
       "<Figure size 1440x720 with 1 Axes>"
      ]
     },
     "metadata": {
      "needs_background": "light"
     },
     "output_type": "display_data"
    }
   ],
   "source": [
    "plt.plot(sydney.smart_location,sydney.price_num)\n",
    "plt.plot(cremorne.smart_location,cremorne.price_num)\n",
    "plt.plot(kirribilli.smart_location,kirribilli.price_num)\n",
    "plt.plot(birchgrove.smart_location,birchgrove.price_num)\n",
    "plt.plot(greenwich.smart_location,greenwich.price_num)\n",
    "plt.plot(shark.smart_location,shark.price_num)\n",
    "plt.show()"
   ]
  },
  {
   "cell_type": "markdown",
   "metadata": {
    "slideshow": {
     "slide_type": "slide"
    }
   },
   "source": [
    "Now let's sort the locations by their mean locations and prices.\n",
    "We are making an assumption here but for the purpose of this analysis, let's just go with it!"
   ]
  },
  {
   "cell_type": "code",
   "execution_count": 25,
   "metadata": {
    "slideshow": {
     "slide_type": "slide"
    }
   },
   "outputs": [
    {
     "data": {
      "text/html": [
       "<div>\n",
       "<style scoped>\n",
       "    .dataframe tbody tr th:only-of-type {\n",
       "        vertical-align: middle;\n",
       "    }\n",
       "\n",
       "    .dataframe tbody tr th {\n",
       "        vertical-align: top;\n",
       "    }\n",
       "\n",
       "    .dataframe thead th {\n",
       "        text-align: right;\n",
       "    }\n",
       "</style>\n",
       "<table border=\"1\" class=\"dataframe\">\n",
       "  <thead>\n",
       "    <tr style=\"text-align: right;\">\n",
       "      <th></th>\n",
       "      <th>latitude</th>\n",
       "      <th>longitude</th>\n",
       "      <th>price_num</th>\n",
       "    </tr>\n",
       "    <tr>\n",
       "      <th>smart_location</th>\n",
       "      <th></th>\n",
       "      <th></th>\n",
       "      <th></th>\n",
       "    </tr>\n",
       "  </thead>\n",
       "  <tbody>\n",
       "    <tr>\n",
       "      <th>Linley Point, Australia</th>\n",
       "      <td>-33.827257</td>\n",
       "      <td>151.148344</td>\n",
       "      <td>190.0</td>\n",
       "    </tr>\n",
       "  </tbody>\n",
       "</table>\n",
       "</div>"
      ],
      "text/plain": [
       "                          latitude   longitude  price_num\n",
       "smart_location                                           \n",
       "Linley Point, Australia -33.827257  151.148344      190.0"
      ]
     },
     "execution_count": 25,
     "metadata": {},
     "output_type": "execute_result"
    }
   ],
   "source": [
    "sorted_city = city.groupby('smart_location').mean()\n",
    "sorted_city.sample()"
   ]
  },
  {
   "cell_type": "code",
   "execution_count": 26,
   "metadata": {
    "slideshow": {
     "slide_type": "subslide"
    }
   },
   "outputs": [
    {
     "data": {
      "text/plain": [
       "50.000000     12\n",
       "110.000000     9\n",
       "85.000000      9\n",
       "150.000000     8\n",
       "125.000000     8\n",
       "99.000000      8\n",
       "89.000000      8\n",
       "120.000000     8\n",
       "81.000000      8\n",
       "249.000000     8\n",
       "71.000000      7\n",
       "300.000000     6\n",
       "45.000000      6\n",
       "61.000000      6\n",
       "160.000000     5\n",
       "140.000000     5\n",
       "65.000000      5\n",
       "40.000000      5\n",
       "130.000000     5\n",
       "500.000000     4\n",
       "200.000000     4\n",
       "75.000000      4\n",
       "58.000000      4\n",
       "62.500000      3\n",
       "230.000000     3\n",
       "251.000000     3\n",
       "105.000000     3\n",
       "174.000000     3\n",
       "395.000000     3\n",
       "220.000000     3\n",
       "              ..\n",
       "540.000000     1\n",
       "100.500000     1\n",
       "700.000000     1\n",
       "366.000000     1\n",
       "306.575000     1\n",
       "163.714286     1\n",
       "227.000000     1\n",
       "133.777778     1\n",
       "234.611111     1\n",
       "77.318182      1\n",
       "199.000000     1\n",
       "183.086957     1\n",
       "299.375000     1\n",
       "146.700000     1\n",
       "438.111111     1\n",
       "81.594595      1\n",
       "223.000000     1\n",
       "127.500000     1\n",
       "199.479769     1\n",
       "187.000000     1\n",
       "152.304274     1\n",
       "143.000000     1\n",
       "102.500000     1\n",
       "274.356183     1\n",
       "222.025862     1\n",
       "113.516854     1\n",
       "224.068182     1\n",
       "160.133333     1\n",
       "211.000000     1\n",
       "131.296296     1\n",
       "Name: price_num, Length: 637, dtype: int64"
      ]
     },
     "execution_count": 26,
     "metadata": {},
     "output_type": "execute_result"
    }
   ],
   "source": [
    "sorted_city[\"price_num\"].value_counts()"
   ]
  },
  {
   "cell_type": "code",
   "execution_count": 27,
   "metadata": {
    "slideshow": {
     "slide_type": "slide"
    }
   },
   "outputs": [
    {
     "data": {
      "text/plain": [
       "latitude     -33.849449\n",
       "longitude    151.100208\n",
       "price_num    193.366863\n",
       "dtype: float64"
      ]
     },
     "execution_count": 27,
     "metadata": {},
     "output_type": "execute_result"
    }
   ],
   "source": [
    "mean_sorted_city= sorted_city.mean()\n",
    "mean_sorted_city.head()"
   ]
  },
  {
   "cell_type": "code",
   "execution_count": 28,
   "metadata": {
    "slideshow": {
     "slide_type": "slide"
    }
   },
   "outputs": [
    {
     "data": {
      "text/plain": [
       "''"
      ]
     },
     "execution_count": 28,
     "metadata": {},
     "output_type": "execute_result"
    },
    {
     "data": {
      "image/png": "[encoded data removed]",
      "text/plain": [
       "<Figure size 1440x720 with 1 Axes>"
      ]
     },
     "metadata": {
      "needs_background": "light"
     },
     "output_type": "display_data"
    }
   ],
   "source": [
    "hist(sorted_city['price_num'], bins=30)\n",
    ";"
   ]
  },
  {
   "cell_type": "code",
   "execution_count": 29,
   "metadata": {
    "slideshow": {
     "slide_type": "slide"
    }
   },
   "outputs": [
    {
     "data": {
      "text/plain": [
       "<matplotlib.axes._subplots.AxesSubplot at 0x1a2193a438>"
      ]
     },
     "execution_count": 29,
     "metadata": {},
     "output_type": "execute_result"
    },
    {
     "data": {
      "image/png": "[encoded data removed]",
      "text/plain": [
       "<Figure size 1440x720 with 2 Axes>"
      ]
     },
     "metadata": {
      "needs_background": "light"
     },
     "output_type": "display_data"
    }
   ],
   "source": [
    "sea.heatmap(sorted_city)"
   ]
  },
  {
   "cell_type": "code",
   "execution_count": 30,
   "metadata": {
    "slideshow": {
     "slide_type": "slide"
    }
   },
   "outputs": [
    {
     "data": {
      "text/plain": [
       "<matplotlib.axes._subplots.AxesSubplot at 0x108fc7c88>"
      ]
     },
     "execution_count": 30,
     "metadata": {},
     "output_type": "execute_result"
    },
    {
     "data": {
      "image/png": "[encoded data removed]",
      "text/plain": [
       "<Figure size 1440x720 with 1 Axes>"
      ]
     },
     "metadata": {
      "needs_background": "light"
     },
     "output_type": "display_data"
    }
   ],
   "source": [
    "sorted_city.plot()"
   ]
  },
  {
   "cell_type": "code",
   "execution_count": 31,
   "metadata": {
    "slideshow": {
     "slide_type": "slide"
    }
   },
   "outputs": [
    {
     "data": {
      "text/plain": [
       "<matplotlib.axes._subplots.AxesSubplot at 0x1a21678c18>"
      ]
     },
     "execution_count": 31,
     "metadata": {},
     "output_type": "execute_result"
    },
    {
     "data": {
      "image/png": "[encoded data removed]",
      "text/plain": [
       "<Figure size 1440x720 with 1 Axes>"
      ]
     },
     "metadata": {
      "needs_background": "light"
     },
     "output_type": "display_data"
    }
   ],
   "source": [
    "sorted_city['price_num'].hist()"
   ]
  },
  {
   "cell_type": "code",
   "execution_count": 32,
   "metadata": {
    "slideshow": {
     "slide_type": "slide"
    }
   },
   "outputs": [
    {
     "data": {
      "text/plain": [
       "<matplotlib.axes._subplots.AxesSubplot at 0x1a21309550>"
      ]
     },
     "execution_count": 32,
     "metadata": {},
     "output_type": "execute_result"
    },
    {
     "data": {
      "image/png": "[encoded data removed]",
      "text/plain": [
       "<Figure size 1440x720 with 1 Axes>"
      ]
     },
     "metadata": {
      "needs_background": "light"
     },
     "output_type": "display_data"
    }
   ],
   "source": [
    "sorted_city['price_num'][sorted_city['price_num']<400].hist()"
   ]
  },
  {
   "cell_type": "code",
   "execution_count": 33,
   "metadata": {
    "slideshow": {
     "slide_type": "slide"
    }
   },
   "outputs": [
    {
     "data": {
      "text/plain": [
       "<matplotlib.axes._subplots.AxesSubplot at 0x1a212f1390>"
      ]
     },
     "execution_count": 33,
     "metadata": {},
     "output_type": "execute_result"
    },
    {
     "data": {
      "image/png": "[encoded data removed]",
      "text/plain": [
       "<Figure size 1440x720 with 1 Axes>"
      ]
     },
     "metadata": {
      "needs_background": "light"
     },
     "output_type": "display_data"
    }
   ],
   "source": [
    "sorted_city['price_num'][sorted_city['price_num']<194].hist()"
   ]
  },
  {
   "cell_type": "markdown",
   "metadata": {
    "slideshow": {
     "slide_type": "slide"
    }
   },
   "source": [
    "So Let's take a random suburb and see how many entries there are for it."
   ]
  },
  {
   "cell_type": "code",
   "execution_count": 34,
   "metadata": {
    "slideshow": {
     "slide_type": "slide"
    }
   },
   "outputs": [
    {
     "data": {
      "text/html": [
       "<div>\n",
       "<style scoped>\n",
       "    .dataframe tbody tr th:only-of-type {\n",
       "        vertical-align: middle;\n",
       "    }\n",
       "\n",
       "    .dataframe tbody tr th {\n",
       "        vertical-align: top;\n",
       "    }\n",
       "\n",
       "    .dataframe thead th {\n",
       "        text-align: right;\n",
       "    }\n",
       "</style>\n",
       "<table border=\"1\" class=\"dataframe\">\n",
       "  <thead>\n",
       "    <tr style=\"text-align: right;\">\n",
       "      <th></th>\n",
       "      <th>latitude</th>\n",
       "      <th>longitude</th>\n",
       "      <th>price_num</th>\n",
       "    </tr>\n",
       "    <tr>\n",
       "      <th>smart_location</th>\n",
       "      <th></th>\n",
       "      <th></th>\n",
       "      <th></th>\n",
       "    </tr>\n",
       "  </thead>\n",
       "  <tbody>\n",
       "    <tr>\n",
       "      <th>Bondi Beach, Australia</th>\n",
       "      <td>-33.882980</td>\n",
       "      <td>151.272040</td>\n",
       "      <td>220.000000</td>\n",
       "    </tr>\n",
       "    <tr>\n",
       "      <th>Acacia Gardens, Australia</th>\n",
       "      <td>-33.730880</td>\n",
       "      <td>150.913885</td>\n",
       "      <td>344.500000</td>\n",
       "    </tr>\n",
       "    <tr>\n",
       "      <th>Allambie Heights , Australia</th>\n",
       "      <td>-33.776410</td>\n",
       "      <td>151.256580</td>\n",
       "      <td>599.000000</td>\n",
       "    </tr>\n",
       "    <tr>\n",
       "      <th>Allambie Heights, Australia</th>\n",
       "      <td>-33.769543</td>\n",
       "      <td>151.255403</td>\n",
       "      <td>380.774194</td>\n",
       "    </tr>\n",
       "    <tr>\n",
       "      <th>Annangrove, Australia</th>\n",
       "      <td>-33.669468</td>\n",
       "      <td>150.961150</td>\n",
       "      <td>264.000000</td>\n",
       "    </tr>\n",
       "  </tbody>\n",
       "</table>\n",
       "</div>"
      ],
      "text/plain": [
       "                               latitude   longitude   price_num\n",
       "smart_location                                                 \n",
       " Bondi Beach, Australia      -33.882980  151.272040  220.000000\n",
       "Acacia Gardens, Australia    -33.730880  150.913885  344.500000\n",
       "Allambie Heights , Australia -33.776410  151.256580  599.000000\n",
       "Allambie Heights, Australia  -33.769543  151.255403  380.774194\n",
       "Annangrove, Australia        -33.669468  150.961150  264.000000"
      ]
     },
     "execution_count": 34,
     "metadata": {},
     "output_type": "execute_result"
    }
   ],
   "source": [
    "super_sorted_city = sorted_city[sorted_city['price_num']>194 ]\n",
    "super_sorted_city.head()"
   ]
  },
  {
   "cell_type": "code",
   "execution_count": 35,
   "metadata": {
    "slideshow": {
     "slide_type": "slide"
    }
   },
   "outputs": [
    {
     "data": {
      "text/html": [
       "<div>\n",
       "<style scoped>\n",
       "    .dataframe tbody tr th:only-of-type {\n",
       "        vertical-align: middle;\n",
       "    }\n",
       "\n",
       "    .dataframe tbody tr th {\n",
       "        vertical-align: top;\n",
       "    }\n",
       "\n",
       "    .dataframe thead th {\n",
       "        text-align: right;\n",
       "    }\n",
       "</style>\n",
       "<table border=\"1\" class=\"dataframe\">\n",
       "  <thead>\n",
       "    <tr style=\"text-align: right;\">\n",
       "      <th></th>\n",
       "      <th>latitude</th>\n",
       "      <th>longitude</th>\n",
       "      <th>price_num</th>\n",
       "    </tr>\n",
       "    <tr>\n",
       "      <th>smart_location</th>\n",
       "      <th></th>\n",
       "      <th></th>\n",
       "      <th></th>\n",
       "    </tr>\n",
       "  </thead>\n",
       "  <tbody>\n",
       "    <tr>\n",
       "      <th>Coogee ,Sydney, Australia</th>\n",
       "      <td>-33.917210</td>\n",
       "      <td>151.257920</td>\n",
       "      <td>166.000000</td>\n",
       "    </tr>\n",
       "    <tr>\n",
       "      <th>Neutral Bay, Australia</th>\n",
       "      <td>-33.831810</td>\n",
       "      <td>151.214705</td>\n",
       "      <td>182.000000</td>\n",
       "    </tr>\n",
       "    <tr>\n",
       "      <th>AU, Australia</th>\n",
       "      <td>-33.900090</td>\n",
       "      <td>151.155360</td>\n",
       "      <td>158.750000</td>\n",
       "    </tr>\n",
       "    <tr>\n",
       "      <th>Abbotsbury, Australia</th>\n",
       "      <td>-33.870710</td>\n",
       "      <td>150.860250</td>\n",
       "      <td>89.000000</td>\n",
       "    </tr>\n",
       "    <tr>\n",
       "      <th>Abbotsford, Australia</th>\n",
       "      <td>-33.850157</td>\n",
       "      <td>151.130252</td>\n",
       "      <td>144.636364</td>\n",
       "    </tr>\n",
       "  </tbody>\n",
       "</table>\n",
       "</div>"
      ],
      "text/plain": [
       "                             latitude   longitude   price_num\n",
       "smart_location                                               \n",
       " Coogee ,Sydney, Australia -33.917210  151.257920  166.000000\n",
       " Neutral Bay, Australia    -33.831810  151.214705  182.000000\n",
       "AU, Australia              -33.900090  151.155360  158.750000\n",
       "Abbotsbury, Australia      -33.870710  150.860250   89.000000\n",
       "Abbotsford, Australia      -33.850157  151.130252  144.636364"
      ]
     },
     "execution_count": 35,
     "metadata": {},
     "output_type": "execute_result"
    }
   ],
   "source": [
    "sub_sorted_city = sorted_city[sorted_city['price_num']<194]\n",
    "sub_sorted_city.head()"
   ]
  },
  {
   "cell_type": "code",
   "execution_count": 36,
   "metadata": {
    "slideshow": {
     "slide_type": "slide"
    }
   },
   "outputs": [
    {
     "data": {
      "text/plain": [
       "(-33.4, -34.1)"
      ]
     },
     "execution_count": 36,
     "metadata": {},
     "output_type": "execute_result"
    },
    {
     "data": {
      "image/png": "[encoded data removed]",
      "text/plain": [
       "<Figure size 720x720 with 1 Axes>"
      ]
     },
     "metadata": {
      "needs_background": "light"
     },
     "output_type": "display_data"
    }
   ],
   "source": [
    "figure(figsize=(10,10))\n",
    "sorted_plot = plot(sorted_city['longitude'],sorted_city['latitude'], '.', ms=5,alpha=0.5)\n",
    "#sub_sorted_plot = plot(sub_sorted_city['longitude'],sub_sorted_city['latitude'], '.', ms=10,alpha=0.5)\n",
    "#super_sorted_plot = plot(super_sorted_city['longitude'],super_sorted_city['latitude'], '.', ms=15,alpha=0.5)\n",
    "xlim(150.6,151.3)\n",
    "ylim(-33.4,-34.1)\n",
    "#NSW"
   ]
  },
  {
   "cell_type": "code",
   "execution_count": 37,
   "metadata": {
    "slideshow": {
     "slide_type": "slide"
    }
   },
   "outputs": [
    {
     "data": {
      "text/plain": [
       "(-33.4, -34.1)"
      ]
     },
     "execution_count": 37,
     "metadata": {},
     "output_type": "execute_result"
    },
    {
     "data": {
      "image/png": "[encoded data removed]",
      "text/plain": [
       "<Figure size 720x720 with 1 Axes>"
      ]
     },
     "metadata": {
      "needs_background": "light"
     },
     "output_type": "display_data"
    }
   ],
   "source": [
    "figure(figsize=(10,10))\n",
    "sorted_plot = plot(sorted_city['longitude'],sorted_city['latitude'], '.', ms=5,alpha=0.5)\n",
    "sub_sorted_plot = plot(sub_sorted_city['longitude'],sub_sorted_city['latitude'], '.', ms=10,alpha=0.5)\n",
    "#super_sorted_plot = plot(super_sorted_city['longitude'],super_sorted_city['latitude'], '.', ms=15,alpha=0.5)\n",
    "xlim(150.6,151.3)\n",
    "ylim(-33.4,-34.1)"
   ]
  },
  {
   "cell_type": "code",
   "execution_count": 38,
   "metadata": {
    "slideshow": {
     "slide_type": "slide"
    }
   },
   "outputs": [
    {
     "data": {
      "text/plain": [
       "(-34.4, -33.1)"
      ]
     },
     "execution_count": 38,
     "metadata": {},
     "output_type": "execute_result"
    },
    {
     "data": {
      "image/png": "[encoded data removed]",
      "text/plain": [
       "<Figure size 720x720 with 1 Axes>"
      ]
     },
     "metadata": {
      "needs_background": "light"
     },
     "output_type": "display_data"
    }
   ],
   "source": [
    "figure(figsize=(10,10))\n",
    "sorted_plot = plot(sorted_city['longitude'],sorted_city['latitude'], '.', ms=5,alpha=0.5)\n",
    "sub_sorted_plot = plot(sub_sorted_city['longitude'],sub_sorted_city['latitude'], '.', ms=10,alpha=0.5)\n",
    "super_sorted_plot = plot(super_sorted_city['longitude'],super_sorted_city['latitude'], '.', ms=15,alpha=0.5)\n",
    "xlim(150.6,151.3)\n",
    "ylim(-34.4,-33.1)"
   ]
  },
  {
   "cell_type": "markdown",
   "metadata": {
    "slideshow": {
     "slide_type": "slide"
    }
   },
   "source": [
    "![ss](nsw_overlay.png)"
   ]
  },
  {
   "cell_type": "code",
   "execution_count": 39,
   "metadata": {
    "slideshow": {
     "slide_type": "slide"
    }
   },
   "outputs": [
    {
     "data": {
      "text/plain": [
       "(-33.8818, -33.854)"
      ]
     },
     "execution_count": 39,
     "metadata": {},
     "output_type": "execute_result"
    },
    {
     "data": {
      "image/png": "[encoded data removed]",
      "text/plain": [
       "<Figure size 720x720 with 1 Axes>"
      ]
     },
     "metadata": {
      "needs_background": "light"
     },
     "output_type": "display_data"
    }
   ],
   "source": [
    "figure(figsize=(10,10))\n",
    "sorted_plot = plot(sorted_city['longitude'],sorted_city['latitude'], '.', ms=5,alpha=0.5)\n",
    "sub_sorted_plot = plot(sub_sorted_city['longitude'],sub_sorted_city['latitude'], '.', ms=10,alpha=0.5)\n",
    "super_sorted_plot = plot(super_sorted_city['longitude'],super_sorted_city['latitude'], '.', ms=15,alpha=0.5)\n",
    "xlim(151.1866,151.2334)\n",
    "ylim(-33.8818,-33.8540)\n",
    "#sydney"
   ]
  },
  {
   "cell_type": "markdown",
   "metadata": {
    "slideshow": {
     "slide_type": "slide"
    }
   },
   "source": [
    "![sss](sydney_overlay.png)"
   ]
  },
  {
   "cell_type": "code",
   "execution_count": 40,
   "metadata": {
    "slideshow": {
     "slide_type": "slide"
    }
   },
   "outputs": [
    {
     "data": {
      "text/plain": [
       "(-33.8357, -33.8189)"
      ]
     },
     "execution_count": 40,
     "metadata": {},
     "output_type": "execute_result"
    },
    {
     "data": {
      "image/png": "[encoded data removed]",
      "text/plain": [
       "<Figure size 720x720 with 1 Axes>"
      ]
     },
     "metadata": {
      "needs_background": "light"
     },
     "output_type": "display_data"
    }
   ],
   "source": [
    "figure(figsize=(10,10))\n",
    "sorted_plot = plot(sorted_city['longitude'],sorted_city['latitude'], '.', ms=5,alpha=0.5)\n",
    "sub_sorted_plot = plot(sub_sorted_city['longitude'],sub_sorted_city['latitude'], '.', ms=10,alpha=0.5)\n",
    "super_sorted_plot = plot(super_sorted_city['longitude'],super_sorted_city['latitude'], '.', ms=15,alpha=0.5)\n",
    "xlim(151.2111,151.2391)\n",
    "ylim(-33.8357,-33.8189)\n",
    "#cremorne"
   ]
  },
  {
   "cell_type": "markdown",
   "metadata": {
    "slideshow": {
     "slide_type": "slide"
    }
   },
   "source": [
    "![ss](cremorne_overlay.png)"
   ]
  },
  {
   "cell_type": "code",
   "execution_count": 41,
   "metadata": {
    "slideshow": {
     "slide_type": "slide"
    }
   },
   "outputs": [
    {
     "data": {
      "text/plain": [
       "(-33.8619, -33.8331)"
      ]
     },
     "execution_count": 41,
     "metadata": {},
     "output_type": "execute_result"
    },
    {
     "data": {
      "image/png": "[encoded data removed]",
      "text/plain": [
       "<Figure size 720x720 with 1 Axes>"
      ]
     },
     "metadata": {
      "needs_background": "light"
     },
     "output_type": "display_data"
    }
   ],
   "source": [
    "figure(figsize=(10,10))\n",
    "sorted_plot = plot(sorted_city['longitude'],sorted_city['latitude'], '.', ms=5,alpha=0.5)\n",
    "sub_sorted_plot = plot(sub_sorted_city['longitude'],sub_sorted_city['latitude'], '.', ms=10,alpha=0.5)\n",
    "super_sorted_plot = plot(super_sorted_city['longitude'],super_sorted_city['latitude'], '.', ms=15,alpha=0.5)\n",
    "xlim(151.2082,151.2236)\n",
    "ylim(-33.8619,-33.8331)\n",
    "#kirribilli"
   ]
  },
  {
   "cell_type": "markdown",
   "metadata": {
    "slideshow": {
     "slide_type": "slide"
    }
   },
   "source": [
    "![ss](kirribilli_overlay.png)"
   ]
  },
  {
   "cell_type": "code",
   "execution_count": 42,
   "metadata": {
    "slideshow": {
     "slide_type": "slide"
    }
   },
   "outputs": [
    {
     "data": {
      "text/plain": [
       "(-33.8551, -33.8465)"
      ]
     },
     "execution_count": 42,
     "metadata": {},
     "output_type": "execute_result"
    },
    {
     "data": {
      "image/png": "[encoded data removed]",
      "text/plain": [
       "<Figure size 720x720 with 1 Axes>"
      ]
     },
     "metadata": {
      "needs_background": "light"
     },
     "output_type": "display_data"
    }
   ],
   "source": [
    "figure(figsize=(10,10))\n",
    "sorted_plot = plot(sorted_city['longitude'],sorted_city['latitude'], '.', ms=5,alpha=0.5)\n",
    "sub_sorted_plot = plot(sub_sorted_city['longitude'],sub_sorted_city['latitude'], '.', ms=10,alpha=0.5)\n",
    "super_sorted_plot = plot(super_sorted_city['longitude'],super_sorted_city['latitude'], '.', ms=15,alpha=0.5)\n",
    "xlim(151.1761,151.1901)\n",
    "ylim(-33.8551,-33.8465)\n",
    "#birchgrove"
   ]
  },
  {
   "cell_type": "markdown",
   "metadata": {
    "slideshow": {
     "slide_type": "slide"
    }
   },
   "source": [
    "![ss](birchgrove_overlay.png)"
   ]
  },
  {
   "cell_type": "code",
   "execution_count": 43,
   "metadata": {
    "slideshow": {
     "slide_type": "slide"
    }
   },
   "outputs": [
    {
     "data": {
      "text/plain": [
       "(-33.8386, -33.8214)"
      ]
     },
     "execution_count": 43,
     "metadata": {},
     "output_type": "execute_result"
    },
    {
     "data": {
      "image/png": "[encoded data removed]",
      "text/plain": [
       "<Figure size 720x720 with 1 Axes>"
      ]
     },
     "metadata": {
      "needs_background": "light"
     },
     "output_type": "display_data"
    }
   ],
   "source": [
    "figure(figsize=(10,10))\n",
    "sorted_plot = plot(sorted_city['longitude'],sorted_city['latitude'], '.', ms=5,alpha=0.5)\n",
    "sub_sorted_plot = plot(sub_sorted_city['longitude'],sub_sorted_city['latitude'], '.', ms=10,alpha=0.5)\n",
    "super_sorted_plot = plot(super_sorted_city['longitude'],super_sorted_city['latitude'], '.', ms=15,alpha=0.5)\n",
    "xlim(151.1716,151.1996)\n",
    "ylim(-33.8386,-33.8214)\n",
    "#greenwich"
   ]
  },
  {
   "cell_type": "markdown",
   "metadata": {
    "slideshow": {
     "slide_type": "slide"
    }
   },
   "source": [
    "![ss](greenwich_overlay.png)"
   ]
  },
  {
   "cell_type": "markdown",
   "metadata": {
    "slideshow": {
     "slide_type": "slide"
    }
   },
   "source": [
    "![ss](final_overlay.png)"
   ]
  },
  {
   "cell_type": "markdown",
   "metadata": {
    "slideshow": {
     "slide_type": "slide"
    }
   },
   "source": [
    "# #NYE2020"
   ]
  },
  {
   "cell_type": "markdown",
   "metadata": {
    "slideshow": {
     "slide_type": "notes"
    }
   },
   "source": [
    "So now I want to write a bit of code that takes an average price for each suburb in sydney and give a price for it. So instead of a smart_location, I want to create another column that has the average price for each location.\n",
    "\n",
    "Organise it in accending order to see which one has the highest price.\n",
    "\n",
    "In addition to this, use seaborn to create a plot that has the same colour circle for the same suburb, but the size of the circle is dependent on the price. There will be 3 values, the longitude, latitude and the price.\n",
    "\n",
    "To simplify the process you can use the average as discussed above.\n",
    "\n",
    "Take the average of the longitude and latitude to pinpoint the location.\n"
   ]
  }
 ],
 "metadata": {
  "celltoolbar": "Slideshow",
  "kernelspec": {
   "display_name": "Python 3",
   "language": "python",
   "name": "python3"
  },
  "language_info": {
   "codemirror_mode": {
    "name": "ipython",
    "version": 3
   },
   "file_extension": ".py",
   "mimetype": "text/x-python",
   "name": "python",
   "nbconvert_exporter": "python",
   "pygments_lexer": "ipython3",
   "version": "3.7.3"
  }
 },
 "nbformat": 4,
 "nbformat_minor": 1
}
